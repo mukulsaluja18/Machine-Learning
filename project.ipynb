{
  "nbformat": 4,
  "nbformat_minor": 0,
  "metadata": {
    "colab": {
      "name": "project.ipynb",
      "provenance": [],
      "collapsed_sections": []
    },
    "kernelspec": {
      "name": "python3",
      "display_name": "Python 3"
    },
    "language_info": {
      "name": "python"
    }
  },
  "cells": [
    {
      "cell_type": "markdown",
      "metadata": {
        "id": "WKJ1C3K79QxW"
      },
      "source": [
        "##Loading the Dataset"
      ]
    },
    {
      "cell_type": "code",
      "metadata": {
        "colab": {
          "base_uri": "https://localhost:8080/"
        },
        "id": "EGR-H1TK9NtE",
        "outputId": "525680bc-20b4-42e7-f14d-0026e3a61b73"
      },
      "source": [
        "!pip install kaggle"
      ],
      "execution_count": 1,
      "outputs": [
        {
          "output_type": "stream",
          "text": [
            "Requirement already satisfied: kaggle in /usr/local/lib/python3.7/dist-packages (1.5.12)\n",
            "Requirement already satisfied: certifi in /usr/local/lib/python3.7/dist-packages (from kaggle) (2020.12.5)\n",
            "Requirement already satisfied: requests in /usr/local/lib/python3.7/dist-packages (from kaggle) (2.23.0)\n",
            "Requirement already satisfied: six>=1.10 in /usr/local/lib/python3.7/dist-packages (from kaggle) (1.15.0)\n",
            "Requirement already satisfied: tqdm in /usr/local/lib/python3.7/dist-packages (from kaggle) (4.41.1)\n",
            "Requirement already satisfied: python-slugify in /usr/local/lib/python3.7/dist-packages (from kaggle) (4.0.1)\n",
            "Requirement already satisfied: urllib3 in /usr/local/lib/python3.7/dist-packages (from kaggle) (1.24.3)\n",
            "Requirement already satisfied: python-dateutil in /usr/local/lib/python3.7/dist-packages (from kaggle) (2.8.1)\n",
            "Requirement already satisfied: chardet<4,>=3.0.2 in /usr/local/lib/python3.7/dist-packages (from requests->kaggle) (3.0.4)\n",
            "Requirement already satisfied: idna<3,>=2.5 in /usr/local/lib/python3.7/dist-packages (from requests->kaggle) (2.10)\n",
            "Requirement already satisfied: text-unidecode>=1.3 in /usr/local/lib/python3.7/dist-packages (from python-slugify->kaggle) (1.3)\n"
          ],
          "name": "stdout"
        }
      ]
    },
    {
      "cell_type": "code",
      "metadata": {
        "colab": {
          "resources": {
            "http://localhost:8080/nbextensions/google.colab/files.js": {
              "data": "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",
              "ok": true,
              "headers": [
                [
                  "content-type",
                  "application/javascript"
                ]
              ],
              "status": 200,
              "status_text": ""
            }
          },
          "base_uri": "https://localhost:8080/",
          "height": 90
        },
        "id": "Vd4CyKL29XQN",
        "outputId": "93f38259-2eef-479b-fb0e-4de2554fb9a8"
      },
      "source": [
        "from google.colab import files \n",
        "files.upload()"
      ],
      "execution_count": 2,
      "outputs": [
        {
          "output_type": "display_data",
          "data": {
            "text/html": [
              "\n",
              "     <input type=\"file\" id=\"files-0159815a-a066-47db-bc65-144b9aaa93a7\" name=\"files[]\" multiple disabled\n",
              "        style=\"border:none\" />\n",
              "     <output id=\"result-0159815a-a066-47db-bc65-144b9aaa93a7\">\n",
              "      Upload widget is only available when the cell has been executed in the\n",
              "      current browser session. Please rerun this cell to enable.\n",
              "      </output>\n",
              "      <script src=\"/nbextensions/google.colab/files.js\"></script> "
            ],
            "text/plain": [
              "<IPython.core.display.HTML object>"
            ]
          },
          "metadata": {
            "tags": []
          }
        },
        {
          "output_type": "stream",
          "text": [
            "Saving kaggle.json to kaggle (1).json\n"
          ],
          "name": "stdout"
        },
        {
          "output_type": "execute_result",
          "data": {
            "text/plain": [
              "{'kaggle.json': b'{\"username\":\"mukulsaluja\",\"key\":\"\\"}'}"
            ]
          },
          "metadata": {
            "tags": []
          },
          "execution_count": 2
        }
      ]
    },
    {
      "cell_type": "code",
      "metadata": {
        "id": "UiwmyYgR9sTb"
      },
      "source": [
        "#after the uploading run this cell\n",
        "!mkdir -p ~/.kaggle\n",
        "!cp kaggle.json ~/.kaggle/\n",
        "\n",
        "!chmod 600 ~/.kaggle/kaggle.json"
      ],
      "execution_count": 3,
      "outputs": []
    },
    {
      "cell_type": "code",
      "metadata": {
        "colab": {
          "base_uri": "https://localhost:8080/"
        },
        "id": "lUV_9OMZ9xgM",
        "outputId": "eb1fa779-8f3d-4c87-c173-c8708229c53a"
      },
      "source": [
        "!kaggle datasets download -d snap/amazon-fine-food-reviews"
      ],
      "execution_count": 4,
      "outputs": [
        {
          "output_type": "stream",
          "text": [
            "amazon-fine-food-reviews.zip: Skipping, found more recently modified local copy (use --force to force download)\n"
          ],
          "name": "stdout"
        }
      ]
    },
    {
      "cell_type": "code",
      "metadata": {
        "colab": {
          "base_uri": "https://localhost:8080/"
        },
        "id": "8g8JWjFW90Th",
        "outputId": "5ade48a8-198d-4455-e930-576252e19ae6"
      },
      "source": [
        "from zipfile import ZipFile\n",
        "file_name=\"amazon-fine-food-reviews.zip\" #name of the file you downloaded\n",
        "\n",
        "with ZipFile(file_name,'r') as z:\n",
        "  print(\"Extracting the file {}\".format(file_name))\n",
        "  z.extractall()\n",
        "  print(\"Done Extracting\")"
      ],
      "execution_count": 46,
      "outputs": [
        {
          "output_type": "stream",
          "text": [
            "Extracting the file amazon-fine-food-reviews.zip\n",
            "Done Extracting\n"
          ],
          "name": "stdout"
        }
      ]
    },
    {
      "cell_type": "code",
      "metadata": {
        "colab": {
          "base_uri": "https://localhost:8080/"
        },
        "id": "wOH5OGlQ92ma",
        "outputId": "c64eefb4-82bb-457b-fd55-75d4c00a4b20"
      },
      "source": [
        "%matplotlib inline\n",
        "import sqlite3\n",
        "import pandas as pd\n",
        "import numpy as np\n",
        "import nltk\n",
        "import string\n",
        "import matplotlib.pyplot as plt\n",
        "import seaborn as sns\n",
        "from sklearn.feature_extraction.text import TfidfTransformer\n",
        "from sklearn.feature_extraction.text import TfidfVectorizer\n",
        "\n",
        "from sklearn.feature_extraction.text import CountVectorizer\n",
        "from sklearn.metrics import confusion_matrix\n",
        "from sklearn import metrics\n",
        "from sklearn.metrics import roc_curve, auc\n",
        "from nltk.stem.porter import PorterStemmer\n",
        "\n",
        "import re\n",
        "import string\n",
        "from nltk.corpus import stopwords\n",
        "from nltk.stem import PorterStemmer\n",
        "from nltk.stem.wordnet import WordNetLemmatizer\n",
        "nltk.download(\"stopwords\")\n",
        "from gensim.models import Word2Vec\n",
        "from gensim.models import KeyedVectors\n",
        "import pickle\n",
        "\n",
        "from tqdm import tqdm\n",
        "import os\n",
        "import warnings\n",
        "warnings.filterwarnings(\"ignore\")"
      ],
      "execution_count": 6,
      "outputs": [
        {
          "output_type": "stream",
          "text": [
            "[nltk_data] Downloading package stopwords to /root/nltk_data...\n",
            "[nltk_data]   Package stopwords is already up-to-date!\n"
          ],
          "name": "stdout"
        }
      ]
    },
    {
      "cell_type": "code",
      "metadata": {
        "id": "SD2wDU5p-JP-"
      },
      "source": [
        "connection=sqlite3.connect(\"/content/database.sqlite\")\n",
        "data=pd.read_sql_query(\"\"\"\n",
        "Select *\n",
        "from Reviews\n",
        "where score!=3\n",
        "\"\"\",connection)"
      ],
      "execution_count": 7,
      "outputs": []
    },
    {
      "cell_type": "code",
      "metadata": {
        "id": "myKCezyu-L1u"
      },
      "source": [
        "def partition(x):\n",
        "  if x<3:\n",
        "    return 0\n",
        "  else:\n",
        "    return 1"
      ],
      "execution_count": 8,
      "outputs": []
    },
    {
      "cell_type": "code",
      "metadata": {
        "colab": {
          "base_uri": "https://localhost:8080/"
        },
        "id": "mCo-IaVT-PKw",
        "outputId": "61260c08-95b9-4de5-c15f-bf7c697fc0d4"
      },
      "source": [
        "actual_score=data[\"Score\"]\n",
        "label=actual_score.map(partition)\n",
        "data[\"Score\"]=label\n",
        "print(\"In our Dataset we have {0} rows and {1} columns\".format(data.shape[0],data.shape[1]))"
      ],
      "execution_count": 9,
      "outputs": [
        {
          "output_type": "stream",
          "text": [
            "In our Dataset we have 525814 rows and 10 columns\n"
          ],
          "name": "stdout"
        }
      ]
    },
    {
      "cell_type": "code",
      "metadata": {
        "colab": {
          "base_uri": "https://localhost:8080/",
          "height": 279
        },
        "id": "K1wRipxj-RW3",
        "outputId": "5ec1d164-0f53-4309-ff3f-c100b1b0a1be"
      },
      "source": [
        "data.head()"
      ],
      "execution_count": 10,
      "outputs": [
        {
          "output_type": "execute_result",
          "data": {
            "text/html": [
              "<div>\n",
              "<style scoped>\n",
              "    .dataframe tbody tr th:only-of-type {\n",
              "        vertical-align: middle;\n",
              "    }\n",
              "\n",
              "    .dataframe tbody tr th {\n",
              "        vertical-align: top;\n",
              "    }\n",
              "\n",
              "    .dataframe thead th {\n",
              "        text-align: right;\n",
              "    }\n",
              "</style>\n",
              "<table border=\"1\" class=\"dataframe\">\n",
              "  <thead>\n",
              "    <tr style=\"text-align: right;\">\n",
              "      <th></th>\n",
              "      <th>Id</th>\n",
              "      <th>ProductId</th>\n",
              "      <th>UserId</th>\n",
              "      <th>ProfileName</th>\n",
              "      <th>HelpfulnessNumerator</th>\n",
              "      <th>HelpfulnessDenominator</th>\n",
              "      <th>Score</th>\n",
              "      <th>Time</th>\n",
              "      <th>Summary</th>\n",
              "      <th>Text</th>\n",
              "    </tr>\n",
              "  </thead>\n",
              "  <tbody>\n",
              "    <tr>\n",
              "      <th>0</th>\n",
              "      <td>1</td>\n",
              "      <td>B001E4KFG0</td>\n",
              "      <td>A3SGXH7AUHU8GW</td>\n",
              "      <td>delmartian</td>\n",
              "      <td>1</td>\n",
              "      <td>1</td>\n",
              "      <td>1</td>\n",
              "      <td>1303862400</td>\n",
              "      <td>Good Quality Dog Food</td>\n",
              "      <td>I have bought several of the Vitality canned d...</td>\n",
              "    </tr>\n",
              "    <tr>\n",
              "      <th>1</th>\n",
              "      <td>2</td>\n",
              "      <td>B00813GRG4</td>\n",
              "      <td>A1D87F6ZCVE5NK</td>\n",
              "      <td>dll pa</td>\n",
              "      <td>0</td>\n",
              "      <td>0</td>\n",
              "      <td>0</td>\n",
              "      <td>1346976000</td>\n",
              "      <td>Not as Advertised</td>\n",
              "      <td>Product arrived labeled as Jumbo Salted Peanut...</td>\n",
              "    </tr>\n",
              "    <tr>\n",
              "      <th>2</th>\n",
              "      <td>3</td>\n",
              "      <td>B000LQOCH0</td>\n",
              "      <td>ABXLMWJIXXAIN</td>\n",
              "      <td>Natalia Corres \"Natalia Corres\"</td>\n",
              "      <td>1</td>\n",
              "      <td>1</td>\n",
              "      <td>1</td>\n",
              "      <td>1219017600</td>\n",
              "      <td>\"Delight\" says it all</td>\n",
              "      <td>This is a confection that has been around a fe...</td>\n",
              "    </tr>\n",
              "    <tr>\n",
              "      <th>3</th>\n",
              "      <td>4</td>\n",
              "      <td>B000UA0QIQ</td>\n",
              "      <td>A395BORC6FGVXV</td>\n",
              "      <td>Karl</td>\n",
              "      <td>3</td>\n",
              "      <td>3</td>\n",
              "      <td>0</td>\n",
              "      <td>1307923200</td>\n",
              "      <td>Cough Medicine</td>\n",
              "      <td>If you are looking for the secret ingredient i...</td>\n",
              "    </tr>\n",
              "    <tr>\n",
              "      <th>4</th>\n",
              "      <td>5</td>\n",
              "      <td>B006K2ZZ7K</td>\n",
              "      <td>A1UQRSCLF8GW1T</td>\n",
              "      <td>Michael D. Bigham \"M. Wassir\"</td>\n",
              "      <td>0</td>\n",
              "      <td>0</td>\n",
              "      <td>1</td>\n",
              "      <td>1350777600</td>\n",
              "      <td>Great taffy</td>\n",
              "      <td>Great taffy at a great price.  There was a wid...</td>\n",
              "    </tr>\n",
              "  </tbody>\n",
              "</table>\n",
              "</div>"
            ],
            "text/plain": [
              "   Id  ...                                               Text\n",
              "0   1  ...  I have bought several of the Vitality canned d...\n",
              "1   2  ...  Product arrived labeled as Jumbo Salted Peanut...\n",
              "2   3  ...  This is a confection that has been around a fe...\n",
              "3   4  ...  If you are looking for the secret ingredient i...\n",
              "4   5  ...  Great taffy at a great price.  There was a wid...\n",
              "\n",
              "[5 rows x 10 columns]"
            ]
          },
          "metadata": {
            "tags": []
          },
          "execution_count": 10
        }
      ]
    },
    {
      "cell_type": "code",
      "metadata": {
        "id": "c-W-UxaeAw38"
      },
      "source": [
        "sample_data = data.head(100000)"
      ],
      "execution_count": 11,
      "outputs": []
    },
    {
      "cell_type": "markdown",
      "metadata": {
        "id": "yZPsh-w8-X9w"
      },
      "source": [
        "#Data cleaning and eda"
      ]
    },
    {
      "cell_type": "markdown",
      "metadata": {
        "id": "N9i5iC4J-eMs"
      },
      "source": [
        "\n",
        "It is observed (as shown in the table below) that the reviews data had many duplicate entries. Hence it was necessary to remove duplicates in order to get unbiased results for the analysis of the data.  Following is an example:"
      ]
    },
    {
      "cell_type": "code",
      "metadata": {
        "colab": {
          "base_uri": "https://localhost:8080/",
          "height": 279
        },
        "id": "g_ueuRWj-T2j",
        "outputId": "692c0ee9-08d7-4836-f15b-55304f45a7aa"
      },
      "source": [
        "display= pd.read_sql_query(\"\"\"\n",
        "SELECT *\n",
        "FROM Reviews\n",
        "WHERE Score != 3 AND UserId=\"AR5J8UI46CURR\"\n",
        "ORDER BY ProductID\n",
        "\"\"\", connection)\n",
        "display.head()"
      ],
      "execution_count": 12,
      "outputs": [
        {
          "output_type": "execute_result",
          "data": {
            "text/html": [
              "<div>\n",
              "<style scoped>\n",
              "    .dataframe tbody tr th:only-of-type {\n",
              "        vertical-align: middle;\n",
              "    }\n",
              "\n",
              "    .dataframe tbody tr th {\n",
              "        vertical-align: top;\n",
              "    }\n",
              "\n",
              "    .dataframe thead th {\n",
              "        text-align: right;\n",
              "    }\n",
              "</style>\n",
              "<table border=\"1\" class=\"dataframe\">\n",
              "  <thead>\n",
              "    <tr style=\"text-align: right;\">\n",
              "      <th></th>\n",
              "      <th>Id</th>\n",
              "      <th>ProductId</th>\n",
              "      <th>UserId</th>\n",
              "      <th>ProfileName</th>\n",
              "      <th>HelpfulnessNumerator</th>\n",
              "      <th>HelpfulnessDenominator</th>\n",
              "      <th>Score</th>\n",
              "      <th>Time</th>\n",
              "      <th>Summary</th>\n",
              "      <th>Text</th>\n",
              "    </tr>\n",
              "  </thead>\n",
              "  <tbody>\n",
              "    <tr>\n",
              "      <th>0</th>\n",
              "      <td>78445</td>\n",
              "      <td>B000HDL1RQ</td>\n",
              "      <td>AR5J8UI46CURR</td>\n",
              "      <td>Geetha Krishnan</td>\n",
              "      <td>2</td>\n",
              "      <td>2</td>\n",
              "      <td>5</td>\n",
              "      <td>1199577600</td>\n",
              "      <td>LOACKER QUADRATINI VANILLA WAFERS</td>\n",
              "      <td>DELICIOUS WAFERS. I FIND THAT EUROPEAN WAFERS ...</td>\n",
              "    </tr>\n",
              "    <tr>\n",
              "      <th>1</th>\n",
              "      <td>138317</td>\n",
              "      <td>B000HDOPYC</td>\n",
              "      <td>AR5J8UI46CURR</td>\n",
              "      <td>Geetha Krishnan</td>\n",
              "      <td>2</td>\n",
              "      <td>2</td>\n",
              "      <td>5</td>\n",
              "      <td>1199577600</td>\n",
              "      <td>LOACKER QUADRATINI VANILLA WAFERS</td>\n",
              "      <td>DELICIOUS WAFERS. I FIND THAT EUROPEAN WAFERS ...</td>\n",
              "    </tr>\n",
              "    <tr>\n",
              "      <th>2</th>\n",
              "      <td>138277</td>\n",
              "      <td>B000HDOPYM</td>\n",
              "      <td>AR5J8UI46CURR</td>\n",
              "      <td>Geetha Krishnan</td>\n",
              "      <td>2</td>\n",
              "      <td>2</td>\n",
              "      <td>5</td>\n",
              "      <td>1199577600</td>\n",
              "      <td>LOACKER QUADRATINI VANILLA WAFERS</td>\n",
              "      <td>DELICIOUS WAFERS. I FIND THAT EUROPEAN WAFERS ...</td>\n",
              "    </tr>\n",
              "    <tr>\n",
              "      <th>3</th>\n",
              "      <td>73791</td>\n",
              "      <td>B000HDOPZG</td>\n",
              "      <td>AR5J8UI46CURR</td>\n",
              "      <td>Geetha Krishnan</td>\n",
              "      <td>2</td>\n",
              "      <td>2</td>\n",
              "      <td>5</td>\n",
              "      <td>1199577600</td>\n",
              "      <td>LOACKER QUADRATINI VANILLA WAFERS</td>\n",
              "      <td>DELICIOUS WAFERS. I FIND THAT EUROPEAN WAFERS ...</td>\n",
              "    </tr>\n",
              "    <tr>\n",
              "      <th>4</th>\n",
              "      <td>155049</td>\n",
              "      <td>B000PAQ75C</td>\n",
              "      <td>AR5J8UI46CURR</td>\n",
              "      <td>Geetha Krishnan</td>\n",
              "      <td>2</td>\n",
              "      <td>2</td>\n",
              "      <td>5</td>\n",
              "      <td>1199577600</td>\n",
              "      <td>LOACKER QUADRATINI VANILLA WAFERS</td>\n",
              "      <td>DELICIOUS WAFERS. I FIND THAT EUROPEAN WAFERS ...</td>\n",
              "    </tr>\n",
              "  </tbody>\n",
              "</table>\n",
              "</div>"
            ],
            "text/plain": [
              "       Id  ...                                               Text\n",
              "0   78445  ...  DELICIOUS WAFERS. I FIND THAT EUROPEAN WAFERS ...\n",
              "1  138317  ...  DELICIOUS WAFERS. I FIND THAT EUROPEAN WAFERS ...\n",
              "2  138277  ...  DELICIOUS WAFERS. I FIND THAT EUROPEAN WAFERS ...\n",
              "3   73791  ...  DELICIOUS WAFERS. I FIND THAT EUROPEAN WAFERS ...\n",
              "4  155049  ...  DELICIOUS WAFERS. I FIND THAT EUROPEAN WAFERS ...\n",
              "\n",
              "[5 rows x 10 columns]"
            ]
          },
          "metadata": {
            "tags": []
          },
          "execution_count": 12
        }
      ]
    },
    {
      "cell_type": "code",
      "metadata": {
        "id": "0klVZy31-gS5"
      },
      "source": [
        "sort_data=sample_data.sort_values(by=\"ProductId\",ascending=True)\n",
        "final=sort_data.drop_duplicates(subset={\"UserId\",\"ProfileName\",\"Time\",\"Text\"},keep=\"first\",inplace=False)"
      ],
      "execution_count": 13,
      "outputs": []
    },
    {
      "cell_type": "code",
      "metadata": {
        "colab": {
          "base_uri": "https://localhost:8080/"
        },
        "id": "-MGpiglg-lKC",
        "outputId": "37116938-1dd0-475e-f6fc-78bea3559166"
      },
      "source": [
        "print(\"Before doing Deduplication or removing duplicate rows we have {} rows\".format(sort_data.shape[0]))\n",
        "print(\"After doing Deduplication or removing duplicate rows we have {} rows\".format(final.shape[0]))\n",
        "print(\"Percentage of data still remain same is {} %\".format((final['Id'].size*1.0)/(sort_data['Id'].size*1.0)*100))"
      ],
      "execution_count": 14,
      "outputs": [
        {
          "output_type": "stream",
          "text": [
            "Before doing Deduplication or removing duplicate rows we have 100000 rows\n",
            "After doing Deduplication or removing duplicate rows we have 87775 rows\n",
            "Percentage of data still remain same is 87.775 %\n"
          ],
          "name": "stdout"
        }
      ]
    },
    {
      "cell_type": "markdown",
      "metadata": {
        "id": "huIJnnh2-3ZK"
      },
      "source": [
        "####In the data It was also seen that in two rows given below the value of HelpfulnessNumerator is greater than HelpfulnessDenominator which is not practically possible hence these two rows too are removed from calcualtions"
      ]
    },
    {
      "cell_type": "code",
      "metadata": {
        "colab": {
          "base_uri": "https://localhost:8080/",
          "height": 140
        },
        "id": "rJ57B57E-p0w",
        "outputId": "72ae3713-ec36-4112-f82f-5527aa82dc3e"
      },
      "source": [
        "display= pd.read_sql_query(\"\"\"\n",
        "SELECT *\n",
        "FROM Reviews\n",
        "WHERE Score != 3 AND Id=44737 OR Id=64422\n",
        "ORDER BY ProductID\n",
        "\"\"\", connection)\n",
        "\n",
        "display.head()"
      ],
      "execution_count": 15,
      "outputs": [
        {
          "output_type": "execute_result",
          "data": {
            "text/html": [
              "<div>\n",
              "<style scoped>\n",
              "    .dataframe tbody tr th:only-of-type {\n",
              "        vertical-align: middle;\n",
              "    }\n",
              "\n",
              "    .dataframe tbody tr th {\n",
              "        vertical-align: top;\n",
              "    }\n",
              "\n",
              "    .dataframe thead th {\n",
              "        text-align: right;\n",
              "    }\n",
              "</style>\n",
              "<table border=\"1\" class=\"dataframe\">\n",
              "  <thead>\n",
              "    <tr style=\"text-align: right;\">\n",
              "      <th></th>\n",
              "      <th>Id</th>\n",
              "      <th>ProductId</th>\n",
              "      <th>UserId</th>\n",
              "      <th>ProfileName</th>\n",
              "      <th>HelpfulnessNumerator</th>\n",
              "      <th>HelpfulnessDenominator</th>\n",
              "      <th>Score</th>\n",
              "      <th>Time</th>\n",
              "      <th>Summary</th>\n",
              "      <th>Text</th>\n",
              "    </tr>\n",
              "  </thead>\n",
              "  <tbody>\n",
              "    <tr>\n",
              "      <th>0</th>\n",
              "      <td>64422</td>\n",
              "      <td>B000MIDROQ</td>\n",
              "      <td>A161DK06JJMCYF</td>\n",
              "      <td>J. E. Stephens \"Jeanne\"</td>\n",
              "      <td>3</td>\n",
              "      <td>1</td>\n",
              "      <td>5</td>\n",
              "      <td>1224892800</td>\n",
              "      <td>Bought This for My Son at College</td>\n",
              "      <td>My son loves spaghetti so I didn't hesitate or...</td>\n",
              "    </tr>\n",
              "    <tr>\n",
              "      <th>1</th>\n",
              "      <td>44737</td>\n",
              "      <td>B001EQ55RW</td>\n",
              "      <td>A2V0I904FH7ABY</td>\n",
              "      <td>Ram</td>\n",
              "      <td>3</td>\n",
              "      <td>2</td>\n",
              "      <td>4</td>\n",
              "      <td>1212883200</td>\n",
              "      <td>Pure cocoa taste with crunchy almonds inside</td>\n",
              "      <td>It was almost a 'love at first bite' - the per...</td>\n",
              "    </tr>\n",
              "  </tbody>\n",
              "</table>\n",
              "</div>"
            ],
            "text/plain": [
              "      Id  ...                                               Text\n",
              "0  64422  ...  My son loves spaghetti so I didn't hesitate or...\n",
              "1  44737  ...  It was almost a 'love at first bite' - the per...\n",
              "\n",
              "[2 rows x 10 columns]"
            ]
          },
          "metadata": {
            "tags": []
          },
          "execution_count": 15
        }
      ]
    },
    {
      "cell_type": "code",
      "metadata": {
        "colab": {
          "base_uri": "https://localhost:8080/"
        },
        "id": "ud5khiqI-5-G",
        "outputId": "acb2f99a-275d-489b-f256-2335b3b78455"
      },
      "source": [
        "final=final[final.HelpfulnessNumerator<=final.HelpfulnessDenominator]\n",
        "print(final.shape)"
      ],
      "execution_count": 16,
      "outputs": [
        {
          "output_type": "stream",
          "text": [
            "(87773, 10)\n"
          ],
          "name": "stdout"
        }
      ]
    },
    {
      "cell_type": "code",
      "metadata": {
        "colab": {
          "base_uri": "https://localhost:8080/"
        },
        "id": "jPGdNLnh_AR_",
        "outputId": "9c6c5ecc-d88a-4bbf-f5fa-5436f8cb48ce"
      },
      "source": [
        "final[\"Score\"].value_counts()"
      ],
      "execution_count": 17,
      "outputs": [
        {
          "output_type": "execute_result",
          "data": {
            "text/plain": [
              "1    73592\n",
              "0    14181\n",
              "Name: Score, dtype: int64"
            ]
          },
          "metadata": {
            "tags": []
          },
          "execution_count": 17
        }
      ]
    },
    {
      "cell_type": "markdown",
      "metadata": {
        "id": "d01T_GBE_JPv"
      },
      "source": [
        "## Text Preprocessing: Stemming, stop-word removal and Lemmatization.\n",
        "\n",
        "Now that we have finished deduplication our data requires some preprocessing before we go on further with analysis and making the prediction model.\n",
        "\n",
        "Hence in the Preprocessing phase we do the following in the order below:-\n",
        "\n",
        "1. Begin by removing the html tags\n",
        "2. Remove any punctuations or limited set of special characters like , or . or # etc.\n",
        "3. Check if the word is made up of english letters and is not alpha-numeric\n",
        "4. Check to see if the length of the word is greater than 2 (as it was researched that there is no adjective in 2-letters)\n",
        "5. Convert the word to lowercase\n",
        "6. Remove Stopwords\n",
        "7. Finally Snowball Stemming the word (it was obsereved to be better than Porter Stemming)<br>\n",
        "\n",
        "After which we collect the words used to describe positive and negative reviews"
      ]
    },
    {
      "cell_type": "code",
      "metadata": {
        "colab": {
          "base_uri": "https://localhost:8080/"
        },
        "id": "oDTim4qA_D1M",
        "outputId": "dd20bb8f-9224-4d76-a883-1fe56c2e136b"
      },
      "source": [
        "# find sentences containing HTML tags\n",
        "import re\n",
        "i=0;\n",
        "for sent in final['Text'].values:\n",
        "    if (len(re.findall('<.*?>', sent))):\n",
        "        print(i)\n",
        "        print(sent)\n",
        "        break;\n",
        "    i += 1;"
      ],
      "execution_count": 18,
      "outputs": [
        {
          "output_type": "stream",
          "text": [
            "4\n",
            "I wish I'd read the reviews before making this purchase. It's basically a cardsotck box that is sticky all over the OUTSIDE. Those pink-ish things that look like entrances \"into\" the trap? They're just pictures. There *is no* inside of the trap. All the flies will be stuck to the OUTSIDE. It's basically fly paper, just horribly, horribly HORRIBLY overpriced.<br /><br />Do yourself a favor and just get fly paper or fly strips. Same yuck factor, but much cheaper.\n"
          ],
          "name": "stdout"
        }
      ]
    },
    {
      "cell_type": "code",
      "metadata": {
        "id": "0Kxq6olh_SYS"
      },
      "source": [
        "stop=set(stopwords.words('english')) #this conatin the set /unique stop words\n",
        "sno=nltk.stem.SnowballStemmer('english') #initializing the object for snowball stemmer\n",
        "\n",
        "def clean_html(sentence): #this is the function to remove the tags of html\n",
        "  cleanr=re.compile('<.*?>')\n",
        "  clean_text=re.sub(cleanr,\"\",sentence)\n",
        "  return clean_text\n",
        "\n",
        "def clean_punc(sentence):#remove punctuations marks\n",
        "  cleaned=re.sub(r'[?|!|\\'|\"|#]',r'',sentence)\n",
        "  cleaned=re.sub(r'[.|,|)|(|\\|/]',r'',cleaned)\n",
        "  return cleaned"
      ],
      "execution_count": 19,
      "outputs": []
    },
    {
      "cell_type": "code",
      "metadata": {
        "colab": {
          "base_uri": "https://localhost:8080/"
        },
        "id": "KlnyKIeT_X-X",
        "outputId": "3218519b-a24b-4037-f4b1-778454290739"
      },
      "source": [
        "#Code for implementing step-by-step the checks mentioned in the pre-processing phase\n",
        "\n",
        "if not os.path.isfile('final.sqlite'):\n",
        "  final_string=[] \n",
        "  positive_words=[] # it store all the words that we get from postive reviews\n",
        "  negative_words=[] # it store all the words that we get from negative reviews\n",
        "  \n",
        "  for i , sent in enumerate(tqdm(final['Text'].values)):\n",
        "    filter_sentences=[]\n",
        "    sent=clean_html(sent)#to remove html tags\n",
        "\n",
        "    for w in sent.split():#split using space to remove marks\n",
        "      for clean_words in clean_punc(w).split():#like abc,def then after removing puntuation we get abc def do we again do split\n",
        "        if((clean_words.isalpha())& (len(clean_words)>2)):\n",
        "          if(clean_words.islower() not in stop):#check that the word is not in stop word\n",
        "            s=(sno.stem(clean_words.lower())).encode('utf8')#doing stemming using snowball stemmmer\n",
        "            filter_sentences.append(s)#adding the words to make a list\n",
        "\n",
        "            if(final['Score'].values)[i]==1:\n",
        "              positive_words.append(s)#adding positive words in postive list\n",
        "            if(final['Score'].values)[i]==0:\n",
        "              negative_words.append(s)#adding negtive words in negative list\n",
        "    str_new=b\" \".join(filter_sentences)#joining the words that are in list of filter to make a complete sentence and then appending it into final_string list\n",
        "    final_string.append(str_new)"
      ],
      "execution_count": 20,
      "outputs": [
        {
          "output_type": "stream",
          "text": [
            "100%|██████████| 87773/87773 [02:36<00:00, 561.78it/s]\n"
          ],
          "name": "stderr"
        }
      ]
    },
    {
      "cell_type": "code",
      "metadata": {
        "id": "xlEf7tZ2_lsO"
      },
      "source": [
        "    #storing the data into .sqlite file\n",
        "final['CleanedText']=final_string #adding a column of CleanedText which displays the data after pre-processing of the review \n",
        "final['CleanedText']=final['CleanedText'].str.decode(\"utf-8\")\n",
        "# store final table into an SQlLite table for future.\n",
        "conn = sqlite3.connect('final.sqlite')\n",
        "c=conn.cursor()\n",
        "conn.text_factory = str\n",
        "final.to_sql('Reviews', conn,  schema=None, if_exists='replace', \\\n",
        "              index=True, index_label=None, chunksize=None, dtype=None)\n",
        "conn.close()\n",
        "    \n",
        "#saving the list of postive and negtive words for future use    \n",
        "with open('positive_words.pkl', 'wb') as f:\n",
        "  pickle.dump(positive_words, f)   \n",
        "with open('negitive_words.pkl', 'wb') as f:\n",
        "  pickle.dump(negative_words, f)    "
      ],
      "execution_count": 22,
      "outputs": []
    },
    {
      "cell_type": "code",
      "metadata": {
        "id": "mr9LpMoPAVUl"
      },
      "source": [
        "if os.path.isfile('final.sqlite'):\n",
        "    conn = sqlite3.connect('final.sqlite')\n",
        "    final = pd.read_sql_query(\"\"\" SELECT * FROM Reviews WHERE Score != 3 \"\"\", conn)\n",
        "    conn.close()\n",
        "else:\n",
        "    print(\"Please the above cell\")"
      ],
      "execution_count": 23,
      "outputs": []
    },
    {
      "cell_type": "code",
      "metadata": {
        "colab": {
          "base_uri": "https://localhost:8080/"
        },
        "id": "uozRF1uWAbN9",
        "outputId": "4770cb27-baa6-4fb9-bf64-91dfc2d19d66"
      },
      "source": [
        "#sorting data based on time\n",
        "final_reviews = final.sort_values('Time', axis=0, ascending=True, inplace=False, kind='quicksort', na_position='last')\n",
        "final_reviews.shape"
      ],
      "execution_count": 24,
      "outputs": [
        {
          "output_type": "execute_result",
          "data": {
            "text/plain": [
              "(87773, 12)"
            ]
          },
          "metadata": {
            "tags": []
          },
          "execution_count": 24
        }
      ]
    },
    {
      "cell_type": "markdown",
      "metadata": {
        "id": "vM-1eef8CnaJ"
      },
      "source": [
        "#Splitting the datasets into two parts"
      ]
    },
    {
      "cell_type": "code",
      "metadata": {
        "colab": {
          "base_uri": "https://localhost:8080/"
        },
        "id": "Ghuip17KCgzV",
        "outputId": "7f328dd2-41e4-4b66-8e11-9eec5531cb45"
      },
      "source": [
        "from sklearn.model_selection import train_test_split\n",
        "X = final_reviews['CleanedText']\n",
        "Y = final_reviews['Score']\n",
        "X_train, X_test, Y_train, Y_test = train_test_split(X, Y, test_size=.33, random_state=0)\n",
        "X_tr, X_cv, Y_tr, Y_cv = train_test_split(X_train, Y_train, test_size=.33, random_state=0)\n",
        "print('X_train, Y_train', X_train.shape, Y_train.shape)\n",
        "print('X_test, Y_test', X_test.shape, Y_test.shape)\n",
        "print('X_tr, Y_tr', X_tr.shape, Y_tr.shape)\n",
        "print('X_cv, Y_cv', X_cv.shape, Y_cv.shape)"
      ],
      "execution_count": 26,
      "outputs": [
        {
          "output_type": "stream",
          "text": [
            "X_train, Y_train (58807,) (58807,)\n",
            "X_test, Y_test (28966,) (28966,)\n",
            "X_tr, Y_tr (39400,) (39400,)\n",
            "X_cv, Y_cv (19407,) (19407,)\n"
          ],
          "name": "stdout"
        }
      ]
    },
    {
      "cell_type": "code",
      "metadata": {
        "id": "L3k_ssJcCxzW"
      },
      "source": [
        "from sklearn.model_selection import cross_val_score\n",
        "from collections import Counter\n",
        "from sklearn.metrics import accuracy_score\n",
        "from sklearn import model_selection\n",
        "from sklearn.metrics import f1_score\n",
        "from sklearn.metrics import roc_auc_score"
      ],
      "execution_count": 27,
      "outputs": []
    },
    {
      "cell_type": "code",
      "metadata": {
        "id": "IR_fZYNtC4tv"
      },
      "source": [
        "from sklearn.ensemble import RandomForestClassifier\n",
        "# Random forest classifier\n",
        "def RF_Classifier(X_train,X_cv,Y_train,Y_cv):\n",
        "    pred_cv = []\n",
        "    pred_train = []\n",
        "    depths = [2, 3, 5, 8, 10, 20]\n",
        "    estimators = [100, 200, 300, 400, 500]\n",
        "    for i in depths:\n",
        "        for j in estimators:\n",
        "            clf = RandomForestClassifier(n_estimators=j, max_depth=i, n_jobs = -1, class_weight='balanced')\n",
        "            clf.fit(X_train,Y_train)\n",
        "            probs = clf.predict_proba(X_cv)\n",
        "            prob = clf.predict_proba(X_train)\n",
        "            probs = probs[:,1]\n",
        "            prob = prob[:,1]\n",
        "            auc_score_cv = roc_auc_score(Y_cv,probs)\n",
        "            auc_score_train = roc_auc_score(Y_train,prob)\n",
        "            pred_cv.append(auc_score_cv)\n",
        "            pred_train.append(auc_score_train)\n",
        "    cmap=sns.light_palette(\"green\")\n",
        "    # representing heat map for auc score\n",
        "    print(\"-\"*30, \"AUC Score for train data\", \"-\"*30)\n",
        "    pred_train = np.array(pred_train)\n",
        "    pred_train = pred_train.reshape(len(depths),len(estimators))\n",
        "    plt.figure(figsize=(10,5))\n",
        "    sns.heatmap(pred_train,annot=True, cmap=cmap, fmt=\".3f\", xticklabels=estimators,yticklabels=depths)\n",
        "    plt.xlabel('Estimators')\n",
        "    plt.ylabel('Depths')\n",
        "    plt.show()\n",
        "    print(\"-\"*30, \"AUC Score for CV data\", \"-\"*30)\n",
        "    pred_cv = np.array(pred_cv)\n",
        "    pred_cv = pred_cv.reshape(len(depths),len(estimators))\n",
        "    plt.figure(figsize=(10,5))\n",
        "    sns.heatmap(pred_cv, annot=True, cmap=cmap, fmt=\".3f\", xticklabels=estimators, yticklabels=depths)\n",
        "    plt.xlabel('Estimators')\n",
        "    plt.ylabel('Depths')\n",
        "    plt.show()    "
      ],
      "execution_count": 28,
      "outputs": []
    },
    {
      "cell_type": "markdown",
      "metadata": {
        "id": "DttSAfPtDyQH"
      },
      "source": [
        "## Testing Model on Training data and Test data for Random Forest"
      ]
    },
    {
      "cell_type": "code",
      "metadata": {
        "id": "tnstOUsWC9Pg"
      },
      "source": [
        "import sklearn.metrics as skplt\n",
        "def testing(X_train,Y_train,X_test,Y_test,optimal_depth,optimal_estimator):\n",
        "    clf = RandomForestClassifier(n_estimators = optimal_estimator, max_depth = optimal_depth,class_weight='balanced')\n",
        "    clf.fit(X_train,Y_train)\n",
        "    prob = clf.predict_proba(X_test) \n",
        "    prob1 = clf.predict_proba(X_train)\n",
        "    # keep probabilities for the positive outcome only\n",
        "    probs = prob[:, 1]\n",
        "    probs1 = prob1[:,1]\n",
        "    print(\"AUC Score for train data\",roc_auc_score(Y_train,probs1))\n",
        "    print(\"AUC Score for test data\",roc_auc_score(Y_test,probs))\n",
        "    # calculate roc curve\n",
        "    fpr_train, tpr_train, thresholds = roc_curve(Y_train,probs1)\n",
        "    fpr_test, tpr_test, thresholds = roc_curve(Y_test,probs)\n",
        "    # plot no skill\n",
        "    plt.plot([0, 1], [0, 1], linestyle='--')\n",
        "    # plot the roc curve for the model\n",
        "    plt.plot(fpr_test, tpr_test, marker='.',color ='b',label='Test Data')\n",
        "    plt.plot(fpr_train, tpr_train, marker='.',color= 'r',label='Train Data')\n",
        "    plt.title(\"Line Plot of ROC Curve on Train Data and Test Data\")\n",
        "    plt.legend(loc='upper left')\n",
        "    plt.ylabel('True Positive Rate')\n",
        "    plt.xlabel('False Positive Rate')    \n",
        "    plt.show\n",
        "    #plot confusion matrix\n",
        "    prediction_test=np.argmax(prob,axis=1)\n",
        "    prediction_train=np.argmax(prob1,axis=1)\n",
        "    print(\"macro f1 score for train data :\",metrics.f1_score(Y_train, prediction_train, average = 'macro'))\n",
        "    print(\"macro f1 score for test data :\",metrics.f1_score(Y_test, prediction_test, average = 'macro'))\n",
        "    print(\"micro f1 score for train data:\",metrics.f1_score(Y_train, prediction_train, average = 'micro'))\n",
        "    print(\"micro f1 score for test data:\",metrics.f1_score(Y_test, prediction_test, average = 'micro'))\n",
        "    print(\"hamming loss for train data:\",metrics.hamming_loss(Y_train,prediction_train))\n",
        "    print(\"hamming loss for test data:\",metrics.hamming_loss(Y_test,prediction_test))\n",
        "    print(\"Precision recall report for train data:\\n\",metrics.classification_report(Y_train, prediction_train))\n",
        "    print(\"Precision recall report for test data:\\n\",metrics.classification_report(Y_test, prediction_test))\n",
        " #   skplt.plot_confusion_matrix(Y_train,prediction_train,)\n",
        "  #  skplt.plot_confusion_matrix(Y_test,prediction_test)"
      ],
      "execution_count": 43,
      "outputs": []
    },
    {
      "cell_type": "markdown",
      "metadata": {
        "id": "l9K4l65hDvK9"
      },
      "source": [
        "#top 20 Features"
      ]
    },
    {
      "cell_type": "code",
      "metadata": {
        "id": "K8ZC00kaDBFA"
      },
      "source": [
        "from wordcloud import WordCloud\n",
        "def imp_feature(vectorizer,classifier, n =20):\n",
        "    features = []\n",
        "    feature_names = vectorizer.get_feature_names()\n",
        "    coefs = sorted(zip(classifier.feature_importances_, feature_names))\n",
        "    top = coefs[:-(n + 1):-1]\n",
        "    print('\\033[1m' + \"feature_importances\\tfeatures\" + '\\033[0m')\n",
        "    print(\"=\"*35)\n",
        "    for (coef1, feat1) in top:\n",
        "        print(\"%.4f\\t\\t\\t%-15s\" % (coef1, feat1))\n",
        "        features.append(feat1)\n",
        "    wordcloud = WordCloud(background_color='black',width=1600,height=800).generate(\" \".join(features))    #top 20 features in word cloud\n",
        "    fig = plt.figure(figsize=(30,20))\n",
        "    plt.imshow(wordcloud)\n",
        "    plt.axis('off')\n",
        "    plt.tight_layout(pad=0)\n",
        "    #fig.savefig(\"features.png\")\n",
        "    plt.show()  "
      ],
      "execution_count": 48,
      "outputs": []
    },
    {
      "cell_type": "markdown",
      "metadata": {
        "id": "k1ID5GnuD525"
      },
      "source": [
        "#Performing Vectorization"
      ]
    },
    {
      "cell_type": "markdown",
      "metadata": {
        "id": "KqF5K7paD_0_"
      },
      "source": [
        "## Bag of words (BOW)\n",
        "### using unigram bow"
      ]
    },
    {
      "cell_type": "code",
      "metadata": {
        "colab": {
          "base_uri": "https://localhost:8080/"
        },
        "id": "r1J-_yDpDszA",
        "outputId": "9ed036e3-3446-4f66-884a-399d62852c18"
      },
      "source": [
        "count_vect = CountVectorizer()\n",
        "bow_train = count_vect.fit_transform(X_tr)\n",
        "print(\"The type of count vectorizer \",type(bow_train))\n",
        "print(\"The shape of out text BOW vectorizer \",bow_train.get_shape())\n",
        "bow_cv = count_vect.transform(X_cv)\n",
        "bow_test = count_vect.transform(X_test)\n",
        "print(\"CV Data Size: \",bow_cv.shape)\n",
        "print(\"Test Data Size: \",bow_test.shape)"
      ],
      "execution_count": 34,
      "outputs": [
        {
          "output_type": "stream",
          "text": [
            "The type of count vectorizer  <class 'scipy.sparse.csr.csr_matrix'>\n",
            "The shape of out text BOW vectorizer  (39400, 44821)\n",
            "CV Data Size:  (19407, 44821)\n",
            "Test Data Size:  (28966, 44821)\n"
          ],
          "name": "stdout"
        }
      ]
    },
    {
      "cell_type": "markdown",
      "metadata": {
        "id": "7sb5o7xuEQuE"
      },
      "source": [
        "### Normalizing the data"
      ]
    },
    {
      "cell_type": "code",
      "metadata": {
        "colab": {
          "base_uri": "https://localhost:8080/"
        },
        "id": "jyz0y8GnELp5",
        "outputId": "829cbd1b-a2d7-430c-eefd-9cad54ade9cb"
      },
      "source": [
        "from sklearn import preprocessing\n",
        "from sklearn.preprocessing import Normalizer\n",
        "normalizer = preprocessing.Normalizer()\n",
        "bow_train = normalizer.fit_transform(bow_train)\n",
        "bow_cv = normalizer.transform(bow_cv)\n",
        "bow_test = normalizer.transform(bow_test)\n",
        "print(\"The shape of out text BOW vectorizer \",bow_train.get_shape())\n",
        "print(\"CV Data Size: \",bow_cv.shape)\n",
        "print(\"Test Data Size: \",bow_test.shape)"
      ],
      "execution_count": 35,
      "outputs": [
        {
          "output_type": "stream",
          "text": [
            "The shape of out text BOW vectorizer  (39400, 44821)\n",
            "CV Data Size:  (19407, 44821)\n",
            "Test Data Size:  (28966, 44821)\n"
          ],
          "name": "stdout"
        }
      ]
    },
    {
      "cell_type": "code",
      "metadata": {
        "colab": {
          "base_uri": "https://localhost:8080/",
          "height": 685
        },
        "id": "X_bn9ikjET4g",
        "outputId": "c39d7b0b-118d-499b-9523-c533671a33bb"
      },
      "source": [
        "RF_Classifier(bow_train,bow_cv,Y_tr,Y_cv)"
      ],
      "execution_count": 36,
      "outputs": [
        {
          "output_type": "stream",
          "text": [
            "------------------------------ AUC Score for train data ------------------------------\n"
          ],
          "name": "stdout"
        },
        {
          "output_type": "display_data",
          "data": {
            "image/png": "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\n",
            "text/plain": [
              "<Figure size 720x360 with 2 Axes>"
            ]
          },
          "metadata": {
            "tags": [],
            "needs_background": "light"
          }
        },
        {
          "output_type": "stream",
          "text": [
            "------------------------------ AUC Score for CV data ------------------------------\n"
          ],
          "name": "stdout"
        },
        {
          "output_type": "display_data",
          "data": {
            "image/png": "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\n",
            "text/plain": [
              "<Figure size 720x360 with 2 Axes>"
            ]
          },
          "metadata": {
            "tags": [],
            "needs_background": "light"
          }
        }
      ]
    },
    {
      "cell_type": "markdown",
      "metadata": {
        "id": "bhpEA9DYEgaA"
      },
      "source": [
        "### Testing on Test data and Training on BoW for Random Forest"
      ]
    },
    {
      "cell_type": "code",
      "metadata": {
        "colab": {
          "base_uri": "https://localhost:8080/",
          "height": 766
        },
        "id": "yKkF4AVKEY7T",
        "outputId": "04040c37-785a-404c-a38a-5db2a046e08c"
      },
      "source": [
        "testing(bow_train,Y_tr,bow_test,Y_test,optimal_depth=8,optimal_estimator=400)"
      ],
      "execution_count": 44,
      "outputs": [
        {
          "output_type": "stream",
          "text": [
            "AUC Score for train data 0.9291754147303897\n",
            "AUC Score for test data 0.8946892072712812\n",
            "macro f1 score for train data : 0.7910036495601769\n",
            "macro f1 score for test data : 0.7505347217185727\n",
            "micro f1 score for train data: 0.8682994923857869\n",
            "micro f1 score for test data: 0.8439895049368225\n",
            "hamming loss for train data: 0.1317005076142132\n",
            "hamming loss for test data: 0.15601049506317752\n",
            "Precision recall report for train data:\n",
            "               precision    recall  f1-score   support\n",
            "\n",
            "           0       0.57      0.79      0.66      6472\n",
            "           1       0.96      0.88      0.92     32928\n",
            "\n",
            "    accuracy                           0.87     39400\n",
            "   macro avg       0.76      0.84      0.79     39400\n",
            "weighted avg       0.89      0.87      0.88     39400\n",
            "\n",
            "Precision recall report for test data:\n",
            "               precision    recall  f1-score   support\n",
            "\n",
            "           0       0.51      0.72      0.60      4649\n",
            "           1       0.94      0.87      0.90     24317\n",
            "\n",
            "    accuracy                           0.84     28966\n",
            "   macro avg       0.73      0.79      0.75     28966\n",
            "weighted avg       0.87      0.84      0.85     28966\n",
            "\n"
          ],
          "name": "stdout"
        },
        {
          "output_type": "display_data",
          "data": {
            "image/png": "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\n",
            "text/plain": [
              "<Figure size 432x288 with 1 Axes>"
            ]
          },
          "metadata": {
            "tags": [],
            "needs_background": "light"
          }
        }
      ]
    },
    {
      "cell_type": "markdown",
      "metadata": {
        "id": "vbDDSWTIEmH-"
      },
      "source": [
        "### Top 20 Features in BoW for Random Forest "
      ]
    },
    {
      "cell_type": "code",
      "metadata": {
        "id": "XIVDnlhBEd9l"
      },
      "source": [
        "clf = RandomForestClassifier(max_depth =10, n_estimators = 400,class_weight='balanced')\n",
        "clf.fit(bow_train,Y_tr)\n",
        "features = imp_feature(count_vect,clf)"
      ],
      "execution_count": null,
      "outputs": []
    },
    {
      "cell_type": "markdown",
      "metadata": {
        "id": "AW0nyBBUEswC"
      },
      "source": [
        "#Tf-idf"
      ]
    },
    {
      "cell_type": "code",
      "metadata": {
        "id": "ui-XNRJkEpqg",
        "colab": {
          "base_uri": "https://localhost:8080/"
        },
        "outputId": "172c1c75-8435-40bd-ae23-fca75f58014e"
      },
      "source": [
        "tf_idf_vect = TfidfVectorizer(ngram_range=(1,2))\n",
        "tfidf_train = tf_idf_vect.fit_transform(X_tr)\n",
        "print(\"The type of count vectorizer \",type(tfidf_train))\n",
        "print(\"The shape of out text TFIDF vectorizer \",tfidf_train.get_shape())\n",
        "tfidf_cv = tf_idf_vect.transform(X_cv)\n",
        "tfidf_test = tf_idf_vect.transform(X_test)\n",
        "print(\"CV Data Size: \",tfidf_cv.shape)\n",
        "print(\"Test Data Size: \",tfidf_test.shape)"
      ],
      "execution_count": 50,
      "outputs": [
        {
          "output_type": "stream",
          "text": [
            "The type of count vectorizer  <class 'scipy.sparse.csr.csr_matrix'>\n",
            "The shape of out text TFIDF vectorizer  (39400, 640865)\n",
            "CV Data Size:  (19407, 640865)\n",
            "Test Data Size:  (28966, 640865)\n"
          ],
          "name": "stdout"
        }
      ]
    },
    {
      "cell_type": "markdown",
      "metadata": {
        "id": "GwenpIlVE5Gd"
      },
      "source": [
        "## Normalizing the data"
      ]
    },
    {
      "cell_type": "code",
      "metadata": {
        "colab": {
          "base_uri": "https://localhost:8080/"
        },
        "id": "KVMQBQZHE6se",
        "outputId": "40b25827-f9a3-4b11-bbf8-a2c54f951a4f"
      },
      "source": [
        "from sklearn import preprocessing\n",
        "from sklearn.preprocessing import Normalizer\n",
        "normalizer = preprocessing.Normalizer()\n",
        "bow_train = normalizer.fit_transform(tfidf_train)\n",
        "bow_cv = normalizer.transform(tfidf_cv)\n",
        "bow_test = normalizer.transform(tfidf_test)\n",
        "print(\"The shape of out text BOW vectorizer \",tfidf_train.get_shape())\n",
        "print(\"CV Data Size: \",tfidf_cv.shape)\n",
        "print(\"Test Data Size: \",tfidf_test.shape)"
      ],
      "execution_count": 51,
      "outputs": [
        {
          "output_type": "stream",
          "text": [
            "The shape of out text BOW vectorizer  (39400, 640865)\n",
            "CV Data Size:  (19407, 640865)\n",
            "Test Data Size:  (28966, 640865)\n"
          ],
          "name": "stdout"
        }
      ]
    },
    {
      "cell_type": "markdown",
      "metadata": {
        "id": "AfJeQba-FA1G"
      },
      "source": [
        "### Training Model on TF-IDF for Random Forest "
      ]
    },
    {
      "cell_type": "code",
      "metadata": {
        "colab": {
          "base_uri": "https://localhost:8080/",
          "height": 685
        },
        "id": "Z9Ae3cbzE94L",
        "outputId": "2062108d-dd9d-4576-ea9e-133257451575"
      },
      "source": [
        "RF_Classifier(tfidf_train,tfidf_cv,Y_tr,Y_cv)"
      ],
      "execution_count": 52,
      "outputs": [
        {
          "output_type": "stream",
          "text": [
            "------------------------------ AUC Score for train data ------------------------------\n"
          ],
          "name": "stdout"
        },
        {
          "output_type": "display_data",
          "data": {
            "image/png": "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\n",
            "text/plain": [
              "<Figure size 720x360 with 2 Axes>"
            ]
          },
          "metadata": {
            "tags": [],
            "needs_background": "light"
          }
        },
        {
          "output_type": "stream",
          "text": [
            "------------------------------ AUC Score for CV data ------------------------------\n"
          ],
          "name": "stdout"
        },
        {
          "output_type": "display_data",
          "data": {
            "image/png": "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\n",
            "text/plain": [
              "<Figure size 720x360 with 2 Axes>"
            ]
          },
          "metadata": {
            "tags": [],
            "needs_background": "light"
          }
        }
      ]
    },
    {
      "cell_type": "markdown",
      "metadata": {
        "id": "ZXHc7b-TFGVH"
      },
      "source": [
        "### Testing on Test data and Traing data in TF-IDF for Random Forest"
      ]
    },
    {
      "cell_type": "code",
      "metadata": {
        "colab": {
          "base_uri": "https://localhost:8080/",
          "height": 766
        },
        "id": "KLKmJ4F8FED1",
        "outputId": "807933f1-fdec-4f9a-a186-d48ad0334c10"
      },
      "source": [
        "testing(tfidf_train,Y_tr,tfidf_test,Y_test,optimal_depth=5,optimal_estimator=500)"
      ],
      "execution_count": 53,
      "outputs": [
        {
          "output_type": "stream",
          "text": [
            "AUC Score for train data 0.9286598899227713\n",
            "AUC Score for test data 0.9053056100539396\n",
            "macro f1 score for train data : 0.791224786274635\n",
            "macro f1 score for test data : 0.7673376466337019\n",
            "micro f1 score for train data: 0.8688324873096446\n",
            "micro f1 score for test data: 0.8586964026790029\n",
            "hamming loss for train data: 0.13116751269035534\n",
            "hamming loss for test data: 0.14130359732099704\n",
            "Precision recall report for train data:\n",
            "               precision    recall  f1-score   support\n",
            "\n",
            "           0       0.57      0.79      0.66      6472\n",
            "           1       0.96      0.88      0.92     32928\n",
            "\n",
            "    accuracy                           0.87     39400\n",
            "   macro avg       0.76      0.84      0.79     39400\n",
            "weighted avg       0.89      0.87      0.88     39400\n",
            "\n",
            "Precision recall report for test data:\n",
            "               precision    recall  f1-score   support\n",
            "\n",
            "           0       0.55      0.72      0.62      4649\n",
            "           1       0.94      0.88      0.91     24317\n",
            "\n",
            "    accuracy                           0.86     28966\n",
            "   macro avg       0.74      0.80      0.77     28966\n",
            "weighted avg       0.88      0.86      0.87     28966\n",
            "\n"
          ],
          "name": "stdout"
        },
        {
          "output_type": "display_data",
          "data": {
            "image/png": "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\n",
            "text/plain": [
              "<Figure size 432x288 with 1 Axes>"
            ]
          },
          "metadata": {
            "tags": [],
            "needs_background": "light"
          }
        }
      ]
    },
    {
      "cell_type": "markdown",
      "metadata": {
        "id": "o_1P5_dYFMZs"
      },
      "source": [
        "### Top 20 Features in TF-IDF for Random Forest  "
      ]
    },
    {
      "cell_type": "code",
      "metadata": {
        "id": "HHG1X6SoFI8V"
      },
      "source": [
        "clf = RandomForestClassifier(max_depth =10 , min_samples_split =500, class_weight='balanced')\n",
        "clf.fit(tfidf_train,Y_tr)\n",
        "imp_feature(tf_idf_vect,clf)"
      ],
      "execution_count": null,
      "outputs": []
    },
    {
      "cell_type": "markdown",
      "metadata": {
        "id": "FoVXhLUAFkTu"
      },
      "source": [
        "#Avg-w2v"
      ]
    },
    {
      "cell_type": "code",
      "metadata": {
        "id": "i_jPF7NRFoBR"
      },
      "source": [
        "i=0\n",
        "list_of_sent_train=[]\n",
        "for sent in X_tr.values:\n",
        "    filtered_sentence=[]\n",
        "    sent=clean_html(sent)\n",
        "    for w in sent.split():\n",
        "        for cleaned_words in clean_punc(w).split():\n",
        "            if(cleaned_words.isalpha()):    \n",
        "                filtered_sentence.append(cleaned_words.lower())\n",
        "            else:\n",
        "                continue \n",
        "    list_of_sent_train.append(filtered_sentence)"
      ],
      "execution_count": 56,
      "outputs": []
    },
    {
      "cell_type": "code",
      "metadata": {
        "id": "srkDFopaFsei"
      },
      "source": [
        "i=0\n",
        "list_of_sent_CV=[]\n",
        "for sent in X_cv.values:\n",
        "    filtered_sentence=[]\n",
        "    sent=clean_html(sent)\n",
        "    for w in sent.split():\n",
        "        for cleaned_words in clean_punc(w).split():\n",
        "            if(cleaned_words.isalpha()):    \n",
        "                filtered_sentence.append(cleaned_words.lower())\n",
        "            else:\n",
        "                continue \n",
        "    list_of_sent_CV.append(filtered_sentence)"
      ],
      "execution_count": 57,
      "outputs": []
    },
    {
      "cell_type": "code",
      "metadata": {
        "id": "lPkkN0GWFuBj"
      },
      "source": [
        "i=0\n",
        "list_of_sent_test=[]\n",
        "for sent in X_test.values:\n",
        "    filtered_sentence=[]\n",
        "    sent=clean_html(sent)\n",
        "    for w in sent.split():\n",
        "        for cleaned_words in clean_punc(w).split():\n",
        "            if(cleaned_words.isalpha()):    \n",
        "                filtered_sentence.append(cleaned_words.lower())\n",
        "            else:\n",
        "                continue \n",
        "    list_of_sent_test.append(filtered_sentence)"
      ],
      "execution_count": 58,
      "outputs": []
    },
    {
      "cell_type": "code",
      "metadata": {
        "id": "TpXW8WsyFvqt"
      },
      "source": [
        "import gensim\n",
        "w2v_model = gensim.models.Word2Vec(list_of_sent_train,min_count=5,size=50,workers=4)\n",
        "w2v_words = list(w2v_model.wv.vocab)"
      ],
      "execution_count": 59,
      "outputs": []
    },
    {
      "cell_type": "code",
      "metadata": {
        "id": "v59knGubFxsA"
      },
      "source": [
        "def avg_w2v(list_of_sent):\n",
        "    sent_vectors = []; # the avg-w2v for each sentence/review is stored in this list\n",
        "    for sent in list_of_sent: # for each review/sentence\n",
        "        sent_vec = np.zeros(50) # as word vectors are of zero length\n",
        "        cnt_words =0; # num of words with a valid vector in the sentence/review\n",
        "        for word in sent: # for each word in a review/sentence\n",
        "            if word in w2v_words:\n",
        "                vec = w2v_model.wv[word]\n",
        "                sent_vec += vec\n",
        "                cnt_words += 1\n",
        "        if cnt_words != 0:\n",
        "            sent_vec /= cnt_words\n",
        "        sent_vectors.append(sent_vec)        \n",
        "    print(len(sent_vectors))\n",
        "    print(len(sent_vectors[0]))\n",
        "    return sent_vectors"
      ],
      "execution_count": 60,
      "outputs": []
    },
    {
      "cell_type": "code",
      "metadata": {
        "colab": {
          "base_uri": "https://localhost:8080/"
        },
        "id": "AT-6ptmAF1Ie",
        "outputId": "a5d2e53a-a72e-49ac-e4a4-b2ba381fe9e9"
      },
      "source": [
        "train_avgw2v = avg_w2v(list_of_sent_train)\n",
        "cv_avgw2v = avg_w2v(list_of_sent_CV)\n",
        "test_avgw2v = avg_w2v(list_of_sent_test)"
      ],
      "execution_count": 61,
      "outputs": [
        {
          "output_type": "stream",
          "text": [
            "39400\n",
            "50\n",
            "19407\n",
            "50\n",
            "28966\n",
            "50\n"
          ],
          "name": "stdout"
        }
      ]
    },
    {
      "cell_type": "code",
      "metadata": {
        "id": "EZ-vJQHuF8h1"
      },
      "source": [
        "normalizer = preprocessing.Normalizer()\n",
        "train_avgw2v = normalizer.fit_transform(train_avgw2v)\n",
        "cv_avgw2v = normalizer.transform(cv_avgw2v)\n",
        "test_avgw2v = normalizer.transform(test_avgw2v)"
      ],
      "execution_count": 62,
      "outputs": []
    },
    {
      "cell_type": "markdown",
      "metadata": {
        "id": "PkdmxkdqF_d7"
      },
      "source": [
        "### Training Model on Avg-W2V for Random Forest"
      ]
    },
    {
      "cell_type": "code",
      "metadata": {
        "colab": {
          "base_uri": "https://localhost:8080/",
          "height": 685
        },
        "id": "TMeTuT9mF9Ll",
        "outputId": "f10292b2-9420-4cce-a077-d756e4cf02ee"
      },
      "source": [
        "RF_Classifier(train_avgw2v,cv_avgw2v,Y_tr,Y_cv)"
      ],
      "execution_count": 63,
      "outputs": [
        {
          "output_type": "stream",
          "text": [
            "------------------------------ AUC Score for train data ------------------------------\n"
          ],
          "name": "stdout"
        },
        {
          "output_type": "display_data",
          "data": {
            "image/png": "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\n",
            "text/plain": [
              "<Figure size 720x360 with 2 Axes>"
            ]
          },
          "metadata": {
            "tags": [],
            "needs_background": "light"
          }
        },
        {
          "output_type": "stream",
          "text": [
            "------------------------------ AUC Score for CV data ------------------------------\n"
          ],
          "name": "stdout"
        },
        {
          "output_type": "display_data",
          "data": {
            "image/png": "iVBORw0KGgoAAAANSUhEUgAAAjIAAAE9CAYAAAARcogRAAAABHNCSVQICAgIfAhkiAAAAAlwSFlzAAALEgAACxIB0t1+/AAAADh0RVh0U29mdHdhcmUAbWF0cGxvdGxpYiB2ZXJzaW9uMy4yLjIsIGh0dHA6Ly9tYXRwbG90bGliLm9yZy+WH4yJAAAgAElEQVR4nOzdd3xV9f3H8dcni0AYAQIIJBIElb3LcKKI4iquIrirFSe1Fmu1tc5a9VfraLUqVgWpSnEhKgpVUdwFZcgS2SSsAGGFFZLP7497iQlCCJBzB3k/H4/74J5zvuc7Po/LvZ98zzJ3R0RERCQeJUS7AyIiIiIHSomMiIiIxC0lMiIiIhK3lMiIiIhI3FIiIyIiInFLiYyIiIjEraRod2Bv1mxeo+vCRaRCpq+aHu0uiFSKPi36WCTbs3tsv39r/S6PaB/3RTMyIiIiEreUyIiIiEjcUiIjIiIicUuJjIiIiMQtJTIiIiISt5TIiIiISKUys35m9r2ZzTez2/aw/XAzm2hmU81shpmdEV6fbGYjzOw7M5tjZrfvqy0lMiIiIlJpzCwReBI4HWgDDDKzNrsVuwMY7e6dgYHAP8PrfwFUc/f2QFfgGjPLLq89JTIiIiJSmboD8919obvvAEYB/Xcr40Dt8Ps6wPJS69PMLAmoDuwANpbXmBIZERERqUxNgWWllnPC60q7G7jEzHKAccCQ8PrXgAJgBbAUeNjd15XXmBIZERERqTAzG2xmU0q9Bh9ANYOA4e6eCZwBjDSzBEKzOUVAE6A5MNTMjiivoph9RIGIiIjEHncfBgwrp0gukFVqOTO8rrSrgH7h+r40s1QgA7gIeN/dC4HVZvY50A1YuLfGNCMjIiIilWkycKSZNTezFEIn847drcxSoA+AmbUGUoG88PqTw+vTgJ7A3PIaUyIjIiIilcbddwI3AuOBOYSuTpplZvea2c/DxYYCV5vZdOAV4Ap3d0JXO9U0s1mEEqIX3H1Gee3p0JKIiIhUKncfR+gk3tLr7iz1fjZw7B7220zoEuwK04yMiIiIxC0lMiIiIhK3lMiIiIhI3NI5Mnvx1Rdf8djDj1FcVMzZ55zNpb+8tMz2lStW8ue7/szmzZspLirm2iHXcsxxxwDw4vMv8s5b75CQmMDNt9xMj2N6lOxXVFTEVZdeRYMGDfjr43+N6Jhi0YHGecP6Dfzx1j8yd/ZcTj/7dIb+fuhP6r715ltZnrucf4/+d6SGE5MqO8YFBQVc/6vrS/bPW5XHqWecym9u+U1ExxVLZk2ZxavPvIoXO8ecdgynDTitzPZ1q9cx4pERbN28leLiYs755Tm0+1k7Nm/czLN/eZal85bS85SeXHj9hSX7TP54MuP/Mx4M0uunc8UtV1CzTs1IDy1mHGiM53w7hzHDx1BUWERiciLnXXkeR3c6GoClPyzlxUdepHBHIW1/1pZfXPMLzCwaw5ODoERmD4qKivjbg3/jsX8+RsNGDfnVpb/iuBOPo/kRzUvKjHhuBH369uHcX5zLooWLuOXXt3DMO8ewaOEiPpzwIf9+9d+syVvDTdfdxKg3R5GYmAjAq6+8SnZ2NgUFBdEaXsw4mDinVEvh6uuuZuGChSxc8NPbC3z80cfUqF4jksOJSUHEOC0tjRGvjChZvvLiK+l9cu8Ijiq2FBcV859//odf3/9r0jPSeeg3D9GhZwcaH964pMx7o96j6/FdOeHME1ixdAVP3vkkfx7+Z5JTkjn70rNZvng5K5asKClfVFTEq8+8yp1P30nNOjV547k3+PjtjznrkrOiMcSoO5gY16xTk+vuuo70+uksX7ycf/zpHzww8gEAXnnyFS6+6WKyj87myTufZPaU2bT9WdtoDVMOUGCHlsyslZn1MbOau63vF1SblWXOrDlkZmXSNLMpycnJ9Dm1D59+/GmZMmZWkowUbC4go0EGAJ9+/Cl9Tu1DSkoKTZo2ITMrkzmz5gCwetVqvvjsC84+5+zIDihGHUycq1evTsfOHUlJSflJvVu2bOE///4Pl//q8uAHEeOCivEuS5csJT8/n46dOwY3iBi3eN5iGjRpQEbjDJKSk+h6Qlemfzm9TBkzY9uWbQBsLdhKnfp1AKiWWo2WbVuSnJJctlIPvbZv2467s23LNtLrp0diODHpYGKc1SKrJHaNmzWmcHshhYWFbFi3gW1bttG8VXPMjB59ejD9q7J1SnwIZEbGzH4N3EDo+vHnzOwmd38rvPkvwPtBtFtZ8lbn0bBRw5Llho0aMmvmrDJlrhx8JTffcDOv/ec1tm3dxmNPPRbaNy+Pdu3bldk3b3UeAI//7XGuv+l6thRsicAoYt/BxLk8zz71LAMvGUhqamql9zneBBXjXT4Y/wF9+vap0tPx69eup25G3ZLluhl1Wfz94jJlzrz4TP7xx3/w8diP2b59Ozfdf1O5dSYmJTLwxoHcf/39pKSm0LBJQwZePzCI7seFyorx1M+nktUyi+TkZNavWU96xo/JYd2Muqxfsz6wMUhwgpqRuRro6u7nAL2BP5nZrk/VIfGN98H4Dzjj7DMY894YHv77w9z3p/soLi7ea/nPJ31O3bp1adW6VQR7Gf/2N87zvp9Hbk4uJ558YgR7Gd/2N8alfTjhQ07pd0rAPYx/Uz6eQs++PfnLyL9wwz03MPzh4eXGuGhnEZ+++ym3P3E7D/z7AZo2b8r40eMj2OP4s68YL1+ynDHPj+GiIRdFsZcShKASmYTwTW1w98WEkpnTzewRyklkSj+I6sXnXwyoa/vWoGEDVq9aXbK8etVqGjRoUKbM22+9zcl9TwagXYd27Nixgw3rN9CgQQNWrVxVdt+GDZgxfQafTfqM8886n7v+cBffTP6Ge+64JzIDilEHE+e9mTVjFnNnz+X8s87nuquuY9mSZdw4+MZgBhAHgojxLj/M+4GioqIqn5yn108nf01+yXL+mvySwxq7fDHhC7oc3wWAI1ofQWFhIQUb936e3LKFoQcHN2jcADOjy/FdWDhnr4+aOeQdbIzz1+Qz7L5hXD70cho0Dn3+0zPSy8zA5K/JLzNDI/EjqERmlZl12rUQTmrOIvRAqPZ728ndh7l7N3fvdtmVlwXUtX1r1aYVOctyWJ67nMLCQj6c8CHHnXhcmTKHHXYYU/43BYDFixazfft20uumc9yJx/HhhA/ZsWMHy3OXk7Msh9ZtW3PdkOsY894YXn/nde75yz10/VlX7vrzXdEYXsw4mDjvzbm/OJex48fy+juv89RzT5HVLIsnhj0R6DhiWRAx3uWD9z/glNM0G9PsqGasXr6aNSvXsLNwJ99M+oYOPTuUKVO3QV2+n/Y9ACuWrmDnjp3lXoGUXj+dFUtXsGnDJgDmTp3LYVmHBTeIGHcwMd6yeQv/vOuf9P9lf1q0bVFSvk69OqTWSGXR3EW4O19/+PVP6pT4YKFHG1RypWaZwE53X7mHbce6++f7qmPN5jWV37H98MVnX/D3v/2doqIizup/FpdfdTnPPvUsrdq04vgTj2fRwkU89OeH2LplKxhc/+vr6dErdJn1iOdG8M5b75CYlMhNQ2+i17G9ytT97ZRveWXkK7r8moOL8/lnnU9BQQE7C3dSs1ZNHn3y0TJX46xYvoLf/eZ3Vf7y66Bi/Iuf/4KHH3+YZs2bRXN4AExfFd2TNGdOnslrz7xGcXExvU7txekDT+ftkW/T7MhmdOjZgRVLV/DS4y+xfdt2zIxzrjyHNl3aAHDHFXewbcs2inYWUT2tOkPuH0Ljwxsz6d1JTBw7kcTEROo1rMdlv72MmrWr7uXXBxrj9155j/Gjx9Ow6Y/nig358xBqpddiybwlvPjoixRuL6Rtt7YMuG5A1M/36tOiT0Q7YPfYfv/W+l0eU6eIBJLIVIZoJzIiEj+inciIVBYlMvtPd/YVERGRuKVERkREROKWEhkRERGJW0pkREREJG4pkREREZG4pURGRERE4pYSGREREYlbSmREREQkbimRERERkbilREZERETilhIZERERiVtKZERERCRuKZERERGRuKVERkREROKWEhkRERGpVGbWz8y+N7P5ZnbbHrYfbmYTzWyqmc0wszPC6y82s2mlXsVm1qm8tpTIiIiISKUxs0TgSeB0oA0wyMza7FbsDmC0u3cGBgL/BHD3l9y9k7t3Ai4FFrn7tPLaUyIjIiIilak7MN/dF7r7DmAU0H+3Mg7UDr+vAyzfQz2DwvuWS4mMiIiIVJiZDTazKaVeg3cr0hRYVmo5J7yutLuBS8wsBxgHDNlDUxcCr+yrP0kV7nmEvTjjxWh3QUREJKL6tOgT7S7sk7sPA4YdZDWDgOHu/jcz6wWMNLN27l4MYGY9gC3uPnNfFcVsIiMiIiLB6tioYxDV5gJZpZYzw+tKuwroB+DuX5pZKpABrA5vH0gFZmNAh5ZERESkck0GjjSz5maWQigpGbtbmaVAHwAzaw2kAnnh5QRgABU4PwaUyIiIiEglcvedwI3AeGAOoauTZpnZvWb283CxocDVZjad0MzLFe7u4W0nAMvcfWFF2tOhJREREalU7j6O0Em8pdfdWer9bODYvez7MdCzom1pRkZERETilhIZERERiVtKZERERCRuKZERERGRuKVERkREROKWEhkRERGJW0pkREREJG4pkREREZG4pURGRERE4pYSGREREYlbSmREREQkbimRERERkbilREZERETilp5+vRdLv1vKFy9/gRc7rU5oReczO5fZvmntJj7+18ds37IdL3Z6XNCDwzsezuqFq5k0fBIAjtOtfzead23O5rWbmfiviWzZuAXDaH1ia9qf2j4aQ4spinPwFOPgVXaMAV665SVSUlOwBMMSjfPvOj/i44olQcR4X3VKfFAiswfFxcV8PvJzzrzlTNLqpfHGvW+Q3Smbuk3rlpT59u1vOeJnR9D25Lbk5+Yz7tFxXNzxYuo2rct5d51HQmICBesLeO3O12jWqRmWaPS8sCcNshuwY+sO3rjnDTLbZpaps6pRnIOnGAcviBgnJIYmy8/6/VlUr1U9WkOLGUHEGGOfdUp8COzQkpl1N7Ofhd+3MbPfmtkZQbVXmVYvXE3thrWp3bA2iUmJtOzeksVTF5cpYxiFWwsB2L51O2npaQAkV0su+RIqKizCzABIS0+jQXYDAFKqp5DeOJ2C9QURGlFsUpyDpxgHL4gYS1lBxLgidUp8CGRGxszuAk4Hkszsv0APYCJwm5l1dvf7g2i3smzJ30LNejVLltPqpbF6weoyZbqe05VxD49j5oczKdxeyFm/O6tk26oFq/jk+U/YtHYTJ199csl/ol02rdnE2qVraXhEw2AHEuMU5+ApxsELKsZmxriHx4FB696tadO7TWQGFIOCiHFF6pT4ENShpQuATkA1YCWQ6e4bzexh4GsgphOZiljw9QKOOu4oOvbryMr5K/no2Y8YcN8ALMFo1KIRA+4fQP7yfCb+ayJZHbJISg6FunBbIROemECvQb1IqZ4S5VHEPsU5eIpx8A4kxv3/0J+0umls3biVdx5+h/TG6TQ5ukm0hxKz9jfGcugI6tDSTncvcvctwAJ33wjg7luB4r3tZGaDzWyKmU358q0vA+ravtWoW4PN6zaXLBesKyCtblqZMnMnzaXFz1oAcFjLwygqLGLb5m1lytRtUpfkasnk5+QDULSziAlPTODIXkdyRLcjAh5F7FOcg6cYBy+oGO+qo3rt6jTv0py8hXlBDiOmBRHjitQp8SGoRGaHmdUIv++6a6WZ1aGcRMbdh7l7N3fv1qt/r4C6tm8Nmzdkw+oNbMzbSNHOIub/bz7NOjcrU6Zm/ZrkzskFIH95PkWFRaTWSmVj3kaKi0JD3LRmE+tXrqdmRk3cnU9e+IT0Jul0OK1DxMcUixTn4CnGwQsixoXbC9mxdQcAhdsLyZmZQ93MqnsSahAxrkidEh/M3Su/UrNq7r59D+szgMbu/t2+6njki0cqv2P7Yen0pXzxSuiyvKOPP5ouZ3dh8puTaZDdgOzO2eTn5vPJ8E8o3F6IYfQY0IOsdlnM+2Ie096dRkJiAmZGl/5daN6lOSvmrWDsA2Opl1mv5GSz7ud35/COh0dzmFGnOAdPMQ5eZcd44+qNjH9iPABe5LTs2ZIuZ3eJ8iijq7JjvLc6o+23x/w2omd8d3q6037/1k67dlpMnZUeSCJTGaKdyIiIiESaEpn9pzv7ioiISNxSIiMiIiJxS4mMiIiIxC0lMiIiIlKpzKyfmX1vZvPN7LY9bD/czCaa2VQzm1H6zv9m1sHMvjSzWWb2nZmllteWnrUkIiIilcbMEoEngb5ADjDZzMa6++xSxe4ARrv7U2bWBhgHZJtZEvBv4FJ3n25m9YHC8trTjIyIiIhUpu7AfHdf6O47gFFA/93KOFA7/L4OsDz8/lRghrtPB3D3te5eVF5jSmRERESkMjUFlpVazgmvK+1u4BIzyyE0GzMkvP4owM1svJl9a2a37qsxJTIiIiJSYaUfJxR+DT6AagYBw909EzgDGGlmCYROeTkOuDj877lm1qe8inSOjIiIiFSYuw8DhpVTJBco/WTOzPC60q4C+oXr+zJ8Qm8GodmbSe6+BsDMxgFdgA/31phmZERERKQyTQaONLPmZpYCDATG7lZmKdAHwMxaA6lAHjAeaG9mNcIn/p4IzKYcmpERERGRSuPuO83sRkJJSSLwvLvPMrN7gSnuPhYYCjxrZjcTOvH3Cg89MynfzB4hlAw5MM7d3y2vPSUyIiIiUqncfRyhk3hLr7uz1PvZwLF72fffhC7BrhAdWhIREZG4pURGRERE4pYSGREREYlbSmREREQkbimRERERkbilREZERETiVsxefj191fRod0FERERiXMwmMiIiIhKsjo06RrsLB02HlkRERCRuKZERERGRuKVERkREROKWEhkRERGJW0pkREREJG4pkREREZG4pURGRERE4pYSGREREYlbSmREREQkbimRERERkbilREZERETilhIZERERiVtKZERERCRuKZERERGRuKVERkREROKWEhkRERGJW0nR7kCsat+wPRd3uJgES+CTJZ/w7rx3y2yvV70eg7sOpkZyDRIsgdGzRjNj1QwyamTwwCkPsGLTCgAW5C9gxLQRAGSnZ/OrLr8iJTGF6aum89KMlyI+rlhzoHEuvf2BUx5gzJwxvDf/PQ6reRjX/+z6ku0N0xryxpw3mLBgQsTGFGsqO8YAfVv0pXd2bwzj48UfV+n4gmIcCUF8J5/f5nyOzTqWtJQ0rnn7moiPSSqHEpk9MIzLOl7G/33+f6zbuo67T7qbqSumsnzT8pIy/Y/uz/9y/8dHiz6iSa0m/LbXb7llwi0ArC5YzZ0T7/xJvZd3vJwXpr7AgvwFDO01lA6NOpT5MqtqDjbOABe1v6hMDFduXlkSe8N47PTH+Gb5N5EbVIwJIsZNazWld3Zv7vn4HnYW7+SWY25h2spprC5YHdGxxQrFOHhBfSdPWzGNDxZ8wP+d+n8RG0tVYWb9gMeBROBf7v7gbtsPB0YA6eEyt7n7ODPLBuYA34eLfuXu15bXlg4t7cER9Y5gVcEq8rbkUeRFfJ3zNV0adylTxnFSk1IBqJ5cnfXb1pdbZ51qdUhNTmVB/gIAPl/2+U/qrGoONs5dGnchb0seuRtz91h/24ZtySvIY+3WtcENIsYFEeMmtZqwYN0CdhTtoNiLmbtmLt2adIvMgGKQYhy8IL6TITQ7s2H7hkD6XJWZWSLwJHA60AYYZGZtdit2BzDa3TsDA4F/ltq2wN07hV/lJjEQoUTGzI4zs9+a2amRaO9g1U2ty7qt60qW121dR93UumXKvDnnTY7JOoZH+z3K0F5D+feMf5dsa1CjAfeedC+3H387R9U/KlRn9brkb80vW2f1snVWNQcT52qJ1TjzqDMZM2fMXuvvkdmDr3K+CqbzcSKIGOdsyuHojKNJS0kjJTGFjod1pF71esEPJkYpxsEL4jtZAtUdmO/uC919BzAK6L9bGQdqh9/XAZZzgAI5tGRm/3P37uH3VwM3AG8Cd5lZl92nmOJRz6yefLb0M96f/z4t6rVgcNfB/PHDP7J+23puHn8zBTsKyE7P5tc9fs0fPvxDtLsbt/YW53Nbn8v4+ePZXrR9j/slWiKdD+vMq7NejXCP48/+xnjFphW8O+9dbj3mVrYXbWfp+qUUe3GUeh8fFOPg7e938rad26Ld5UNZU2BZqeUcoMduZe4GJpjZECANOKXUtuZmNhXYCNzh7p+W11hQ58gkl3o/GOjr7nlm9jDwFbDHRMbMBofL0/Panhx1anQy5/xt+WX++qlXvR752/LLlDmx2Yk8/MXDACxYt4DkxGRqptRk045N7NyxE4DF6xezumA1h9U8jPyt+WVmYOpVr1dmhqYqOpg4H1H3CLo16caAtgOokVwDxyksLuSDhR8A0OGwDixZv4SN2zdGbkAxKKgYT1oyiUlLJgFwQZsLyvy1XNUoxsEL4jt58frFEev/oab0b3XYMHcftp/VDAKGu/vfzKwXMNLM2gErgMPdfa2ZdQXGmFlbd9/rl3lQiUyCmdUldOjK3D0PwN0LzGzn3nYKB2IYwOVvXu4B9W2fFuUvolHNRmTUyCB/az49Mnvw9OSny5RZu2UtbRq04bOln9G4VmOSE5LZtGMTtVJqsXnHZhynQY0GHFbzMPIK8igoLGBb4TZa1G3BgvwFHJt1LP9d+N8ojTA2HEyc//LpX0rKnNPqHLbv3F6SxAD0zOxZ5Q8rQXAxrpVSi007NlGvej26NunKfZ/cF9FxxRLFOHhBfCfLgSv9W70XuUBWqeXM8LrSrgL6hev70sxSgQx3Xw1sD6//xswWAEcBU/bWWFCJTB3gG8AAN7PG7r7CzGqG18W0Yi9m5PSR/O7Y35FAApOWTCJ3Uy7ntj6XxfmLmbpyKq/MfIUrO1/JaS1Pw93517f/AuDojKM5r/V57CzeieMMnzacgsICAEZMH8HVXa8mJSGFGatmVOkrluDg4lyelMQU2jVsx/Cpw4MfRIwLKsZDegyhZkpNiryIkdNHsqVwSwRGE5sU4+AF9Z08oO0AemX1IiUxhUf7Pconiz9hzNy9n3cnFTYZONLMmhNKYAYCF+1WZinQBxhuZq2BVCDPzBoA69y9yMyOAI4EFpbXmLlHbuLDzGoAjdx90b7KRnNGRkREJBpGnDsion/sH8hvbUX6aGZnAI8RurT6eXe/38zuBaa4+9jwVUzPAjUJnfh7q7tPMLPzgXuBQqAYuMvd3y6vrYjeR8bdtwD7TGJEREQkfrn7OGDcbuvuLPV+NnDsHvZ7HXh9f9rSfWREREQkbimRERERkbi134mMmSWYWe19lxQREREJVoUSGTN72cxqm1kaMBOYbWa/C7ZrIiIiIuWr6IxMm/DNaM4B3gOaA5cG1isRERGRCqhoIpNsZsmEEpmx7l5I6HIpERERkaipaCLzDLCY0PMQJplZM0LPQBARERGJmgrdR8bd/w78vdSqJWZ2UjBdEhEREamYCiUyZlYNOB/I3m2fewPok4iIiEiFVPTOvm8BGwg9P2n7PsqKiIiIRERFE5lMd+8XaE9ERERE9lNFT/b9wszaB9oTERERkf1U7oyMmX1H6DLrJOCXZraQ0KElA9zdOwTfRREREZE929ehpbMi0gsRERGRA1BuIuPuSwDMbKS7l7mTr5mNRHf3FRERkSiq6DkybUsvmFki0LXyuyMiIiJSceUmMmZ2u5ltAjqY2UYz2xReXk3okmwRERGRqNnXoaUHgAfM7AF3vz1CfQJg+qrpkWxORETKoe/kyBhx7ohodyHuVPQ+Mn8ws/OA4whdxfSpu48JrlsiIiIStI6NOka7CwetoufIPAlcC3wHzASuNbMnA+uViIiISAVUdEbmZKC1uzuAmY0AZgXWKxEREZEKqOiMzHzg8FLLWeF1IiIiIlFT0RmZWsAcM/sfoXNkugNTzGwsgLv/PKD+iYiIiOxVRROZOwPthYiIiMgBqFAi4+6fmFkz4Eh3/8DMqgNJ7r4p2O6JiIiI7F2FzpExs6uB14BnwqsyAV1+LSIiIj9hZv3M7Hszm29mt+1h++FmNtHMpprZDDM7Yw/bN5vZLftqq6In+94AHAtsBHD3H4CGFdxXREREqojwY4yeBE4H2gCDzKzNbsXuAEa7e2dgIPDP3bY/ArxXkfYqmshsd/cdpTqZROikXxEREZHSugPz3X1hOHcYBfTfrYwDtcPv6wDLd20ws3OARVTwNi8VTWQ+MbM/ANXNrC/wKvB2BfcVERGRqqMpsKzUck54XWl3A5eYWQ4wDhgCYGY1gd8D91S0sYomMrcBeYTu7HtNuNE7KtqIiIiIHBrMbLCZTSn1GnwA1QwChrt7JnAGMNLMEgglOI+6++aKVlTRq5aKzWwMMMbd8w6gwyIiInIIcPdhwLByiuQSunHuLpnhdaVdBfQL1/elmaUCGUAP4AIz+z8gHSg2s23u/sTeGit3RsZC7jazNcD3wPdmlmdmuq+MiIiI7Mlk4Egza25mKYRO5h27W5mlQB8AM2sNpAJ57n68u2e7ezbwGPCX8pIY2PehpZsJXa30M3ev5+71CGVLx5rZzfs5MBERETnEuftO4EZgPDCH0NVJs8zsXjPb9SSAocDVZjYdeAW4YtfzHPfXvg4tXQr0dfc1pTq40MwuASYAjx5IoyIiInLocvdxhM6nLb3uzlLvZxOaKCmvjrsr0ta+ZmSSSycxpSrPA5Ir0oCIiIhIUPaVyOw4wG0iIiIigdvXoaWOZrZxD+uN0Ik5h6xjso7h1mNvJcESeHPOm7ww7YUy2w+reRj3nXQftarVIsES+PvXf+ezpZ8BcGS9I7njhDuomVKTYi/m4jcuJikhiRf6/1hHw7SGjPthHH/94q8RHVcsqewY7yjawaktTuVXXX5FoiUyackkHv/68WgMLaYozsFTjIN3WovTeLzf4yQmJPKvb//FQ58/VGZ7Vu0sRpwzgvTUdBITErntg9t4b/57XNT+In53zO9KynVo1IEuz3Rh+qrpdGncheH9h1M9uTrjfhjHTe/fFOlhSSUoN5Fx98RIdSSWJFgCtx93O9e+cx8S+KsAAB3WSURBVC2rClbx0nkv8cmST1iYv7CkzNVdrmbCggm8OvtVjqh7BE+c8QRnvHQGiZbI/X3u546P7mDe2nnUqVaHncU72VG0gwtfu7Bk/5fPf5kPF30YjeHFhCBiXKdaHW7ueTMXvX4R+dvyue+k++jetDv/y/1fFEcaXYpz8BTj4CVYAk+e8SR9R/YlZ2MOk6+ezNjvxzJnzZySMneccAejZ4/m6SlP0zqjNeMuHkfzx5vz8ncv8/J3LwPQrmE7xlw4humrpgPw1JlPcfXbV/N17teMu2gc/Vr24/3570dljHLgKnpDvP1iZilmdpmZnRJevsjMnjCzG8ws5s+tadewHcs2LiN3Uy47i3cyfsF4emf3LlPGcdJS0gComVKTvILQ7XV6ZfXih7U/MG/tPAA2bN9AsReX2ffwOodTr3o9vl3xbfCDiVFBxDizdiZLNywlf1s+AF/lfMUpR5wSuUHFIMU5eIpx8Lo37c78dfNZtH4RhcWFjJo1iv6tyt7x3nFqVwvd8b5Oah2Wb1r+k3oGtRvEqFmjgNAsWe1qtfk692sAXpzxIue0OifgkUgQKnRDvAPwQrjuGmZ2OVATeIPQNePdgcsDardSNExryMrNK0uWV21eRftG7cuUeXrK0zx15lMMajeI6snVuebtawBoVqcZjvPPM/9J3dS6jF8wnuHThpfZt1/LfoyfPz7wccSyIGK8dMNSstOzaVKrCas2r+Kk5ieRnBDzeXOgFOfgKcbBa1qrKcs2/njH+5yNOfRo2qNMmbs/vpsJl0xgSPchpCWnccrInyZ+F7a9kP6j+pfUmbMxp0ydTWvtfhd9iQdBJTLt3b1D+OGSuUATdy8ys38D0wNqM6L6tezH2O/HMnLGSDo06sCfT/4zF4y+gMSERDof1pmL37iYbTu38cxZzzA7b3aZKeHTWpzGHR/pCQ/7ciAxvv/T+3nolIco9mKmr5pOVu2sfTdUxSnOwVOMgzeo3SCGTx/OI18+Qs/Mnow8dyTt/tkODz/fuHvT7mwp3MKsvAo9h1DiSCCHloCE8N38agE1CD3ZEqAa5Vy2Xfr5DWs/XRtQ1/ZtdcFqDqt5WMlyo5qNWF2wukyZc1udy4QFEwCYsWoG1ZKqkZ6azqrNq/h2xbes37aebTu38dnSz2id0bpkv6PqH0VSQlKZY7tVUVAxnrRkEpe+eSmXj7mcJeuXsGTDksgNKgYpzsFTjIOXuym3TCKXWTuT3E1l73h/VeerGD1rNBA6FJealEpGjYyS7QPbDeSVma+UqTOzdma5dUp8CCqReQ6YC0wD/gi8ambPErpt8ai97eTuw9y9m7t3q398/YC6tm+zVs/i8DqH06RWE5ISkjitxWl8sviTMmVWbF5Bj8zQ1Gbz9OakJKaQvy2fL5Z9Qct6LUlNSiXREunapGuZk/50MllIUDGum1oXgFoptRjQdgBvzHkjsgOLMYpz8BTj4E3OncyR9Y8kOz2b5IRkBrYdyNjvy97xfumGpfRp3geAVhmtSE1KJW9L6FwkwxjQZgCjZv7487Ny80o2bt9Ycojqsg6X8dbctyI0IqlMgRxacvdHzew/4ffLzexF4BTgWXeP+dPui7yIBz97kKfOfIoES+Ct799iQf4Crut2HbPzZvPJkk945MtHuPPEO7m4/cUA3DXxLgA27djEyBkjeem8l3Ccz5Z+xqdLPy2p+9QWp3LjuBujMq5YElSMbz32Vo6qfxQAw74ZxtINS6MzwBihOAdPMQ5ekRdx47gbGX/JeBItkeenPc/svNnc0/sepiyfwtvz3mbohKE8e/az3NzzZhznijFXlOx/QrMTWLZxGYvWLypT7/XvXs/wc4ZTPak6781/j/fmvxfhkUllsAN8tEHgOj3dKTY7JiJSBe26ZFmC5Xe5RbK9R754ZL9/a397zG8j2sd9CerQkoiIiEjglMiIiIhI3FIiIyIiInFLiYyIiIjELSUyIiIiEreUyIiIiEjcUiIjIiIicUuJjIiIiMQtJTIiIiISt5TIiIiISNxSIiMiIiJxS4mMiIiIxC0lMiIiIhK3lMiIiIhI3FIiIyIiIpXKzPqZ2fdmNt/MbtvD9sPNbKKZTTWzGWZ2Rnh9dzObFn5NN7Nz99VWUhADEBERkarJzBKBJ4G+QA4w2czGuvvsUsXuAEa7+1Nm1gYYB2QDM4Fu7r7TzBoD083sbXffubf2NCMjIiIilak7MN/dF7r7DmAU0H+3Mg7UDr+vAywHcPctpZKW1HC5cimRERERkcrUFFhWajknvK60u4FLzCyH0GzMkF0bzKyHmc0CvgOuLW82BmL40NL0VdOj3QURERHZjZkNBgaXWjXM3YftZzWDgOHu/jcz6wWMNLN27l7s7l8Dbc2sNTDCzN5z9217qyhmExkREREJVsdGHfd7n3DSUl7ikgtklVrODK8r7SqgX7i+L80sFcgAVpdqZ46ZbQbaAVP21pgOLYmIiEhlmgwcaWbNzSwFGAiM3a3MUqAPQHjmJRXIC++TFF7fDGgFLC6vMc3IiIiISKUJX3F0IzAeSASed/dZZnYvMMXdxwJDgWfN7GZCJ/Re4e5uZscBt5lZIVAMXO/ua8prT4mMiIiIVCp3H0foJN7S6+4s9X42cOwe9hsJjNyftnRoSUREROKWEhkRERGJW0pkREREJG4pkREREZG4pURGRERE4pYSGREREYlbSmREREQkbimRERERkbilREZERETilhIZERERiVtKZERERCRuKZERERGRuKVERkREROKWEpm9OK3Facy9YS4/DPmB3x/7+59sz6qdxUeXfcS3g79l+rXTOb3l6QBc1P4ipl4zteRVdGcRHRt1LLPvWwPf4rvrvovIOGJZEDFOTkjmmbOe4fsbv2fODXM4r/V5ER1TLAoizhMvn8jcG+aWbGtQo0FExxRr9FkOnj7Hsjfm7tHuwx7ZPRa1jiVYAvNunEffkX3J2ZjD5KsnM+j1QcxZM6ekzDNnPcPUlVN5esrTtM5ozbiLx9H88eZl6mnXsB1jLhxDy3+0LFl3bqtzuaDNBXRo1IH2T7WP2JhiTVAxvrv33SRaIn+a+CcMo171eqzdujaiY4slQcV54uUTuWXCLXyz4puIjicW6bMcvKr0Ofa73CLZ3ocLPtzv39o+LfpEtI/7ohmZPejetDvz181n0fpFFBYXMmrWKPq36l+mjOPUrlYbgDqpdVi+aflP6hnUbhCjZo0qWU5LTuO3vX7Lnyf9OdgBxIGgYnxlpyt54LMHSvavql/8uwQVZ/mRPsvB0+dYypMU7Q7Eoqa1mrJs47KS5ZyNOfRo2qNMmbs/vpsJl0xgSPchpCWnccrIU35Sz4VtL6T/qB//s9138n387cu/saVwS3CdjxNBxLhOtToA3HfSffTO7s2CdQu48b0bWV2wOsCRxLagPssAL/R/gSIv4vU5r1fp5Fyf5eDpcyzl0YzMARrUbhDDpw8n69Esznj5DEaeOxLjx9m27k27s6VwC7PyZgHQsVFHWtRtwZi5Y6LV5bizvzFOSkgiq04WXyz7gq7DuvJlzpc83PfhaHU/buxvnAEufuNiOjzdgeNfOJ7jDz+eSztcGo2uxw19loOnz3HVFUgiY2Z1zOxBM5trZuvMbK2ZzQmvSy9nv8FmNsXMpjAliJ5VTO6mXLJqZ5UsZ9bOJHdTbpkyV3W+itGzRgPwVc5XpCalklEjo2T7wHYDeWXmKyXLvbJ60a1JNxbdtIjPrvyMo+ofxcTLJwY8ktgVRIzXbl1LwY4C3pjzBgCvzn6VLo27BDmMmBdEnIGSafvNOzbz8ncv071p96CGEPP0WQ6ePsdSnqBmZEYD+UBvd6/n7vWBk8LrRu9tJ3cf5u7d3L0b3QLqWQVMzp3MkfWPJDs9m+SEZAa2HcjY78eWKbN0w1L6NO8DQKuMVqQmpZK3JQ8AwxjQZgCjZv54LPbpKU/T9JGmNH+8Occ9fxzz1s7jpBEnRW5QMSaIGAO8Pe9temf3BqBP8z7Mzpsd/GBiWBBxTrRE6levD4RmDs466ixmrp4ZoRHFHn2Wg6fPsZQnqHNkst39odIr3H0l8JCZXRlQm5WmyIu4cdyNjL9kPImWyPPTnmd23mzu6X0PU5ZP4e15bzN0wlCePftZbu55M45zxZgrSvY/odkJLNu4jEXrF0VvEDEuqBj//oPfM/LckTyW+hh5BXn88q1fRnhksSWIOFdLqsb4S8aTnJhMoiXywaIPePbbZ6Mwutigz3Lw9DmW8gRy+bWZTQA+AEa4+6rwukbAFUBfd//pWVi71xHFy69FRESiQZdf77+gDi1dCNQHPgmfI7MO+BioB/wioDZFRESkignk0JK75wO/D7/KMLNfAi8E0a6IiIhULdG4/PqeKLQpIiIih6BAZmTMbMbeNgGNgmhTREREqp6grlpqBJxG6HLr0gz4IqA2RUREJAaYWT/gcSAR+Je7P7jb9sOBEUB6uMxt7j7OzPoCDwIpwA7gd+7+UXltBZXIvAPUdPdpu28ws48DalNERESizMwSgSeBvkAOMNnMxrp76Zsh3QGMdvenzKwNMA7IBtYAZ7v7cjNrB4wHmpbXXlAn+15VzraLgmhTREREYkJ3YL67LwQws1FAf6B0IuNA7fD7OsByAHefWqrMLKC6mVVz9+17a0zPWhIREZEKK/04ofBr8G5FmgLLSi3n8NNZlbuBS8wsh9BszJA9NHU+8G15SQzo6dciIiKyH9x9GDDsIKsZBAx397+ZWS9gpJm1c/diADNrCzwEnLqvijQjIyIiIpUpF8gqtZwZXlfaVYSfvejuXwKpQAaAmWUCbwKXufuCfTWmREZEREQq02TgSDNrbmYpwEBg7G5llgJ9AMysNaFEJs/M0oF3CV3F9HlFGlMiIyIiIpXG3XcCNxK64mgOoauTZpnZvWb283CxocDVZjYdeAW4wkMPf7wRaAncaWbTwq+G5bUXyEMjK4MeGikiIlWNHhq5/zQjIyIiInFLiYyIiIjELSUyIiIiEreUyIiIiEjcUiIjIiIicUuJjIiIiMQtPaJARESkiurYqGO0u3DQNCMjIiIicUuJjIiIiMQtJTIiIiISt5TIiIiISNxSIiMiIiJxS4mMiIiIxC0lMiIiIhK3lMiIiIhI3FIiIyIiInFLiYyIiIjELSUyIiIiEreUyIiIiEjcUiIjIiIicUuJjIiIiMQtJTIiIiISt5TIiIiISNxSIrMXp7U4jbk3zOWHIT/w+2N//5PtWbWz+Oiyj/h28LdMv3Y6p7c8HYCL2l/E1GumlryK7iyiY6OOAAxsN5AZ185g+rXTee/i96hfvX5ExxSLDjTOSQlJDO8/nBnXzmD29bO57bjbSvZ57ufPseqWVXx33XcRG0csq+wYZ9bO5KPLPmLW9bOYed1Mft3j1xEdTyxSjINX2TGulliNr3/1NdOumcbM62Zyd++7IzkcqUTm7tHuwx7ZPRa1jiVYAvNunEffkX3J2ZjD5KsnM+j1QcxZM6ekzDNnPcPUlVN5esrTtM5ozbiLx9H88eZl6mnXsB1jLhxDy3+0JNESWT50OW2ebMParWt56JSH2FK4hXs+uSfSw4sZBxPnQe0G8fOjf86g1wdRPak6s2+YTe/hvVmyYQnHH348m3ds5sVzX6T9U+2jOMLoCyLG24u207hmY6aunErNlJp8M/gbzhl1Tpk6qxLFOHhBfVekJadRUFhAUkISn/3yM256/ya+zv06iiMFv8stku2t2bxmv39rM2pmRLSP+6IZmT3o3rQ789fNZ9H6RRQWFzJq1ij6t+pfpozj1K5WG4A6qXVYvmn5T+oZ1G4Qo2aNAsDMMIy0lDQAalervcd9qpKDibPjpCWnkWiJVE+uzo6iHWzcvhGAT5d+yrqt6yI7mBgVRIxXbl7J1JVTAdi8YzNz8ubQtHbTyA4shijGwQvqu6KgsACA5IRkkhOTcWLzD/t4ZGb9zOx7M5tvZrftYfvhZjbRzKaa2QwzOyO8vn54/WYze6IibSVVducPBU1rNWXZxmUlyzkbc+jRtEeZMnd/fDcTLpnAkO5DSEtO45SRp/ykngvbXkj/UaH/bDuLd3Ldu9fx3XXfUbCjgB/W/cAN424IdiAx7mDi/Nrs1+h/dH9WDF1BjeQa3Dz+ZvK35Ue0//Eg6Bg3q9OMzo0783VOdP+KjSbFOHhBxTjBEvhm8De0rNeSJyc/yf9y/xe5QR3CzCwReBLoC+QAk81srLvPLlXsDmC0uz9lZm2AcUA2sA34E9Au/NqnQGZkzKyOmT1oZnPNbJ2ZrTWzOeF16UG0GWmD2g1i+PThZD2axRkvn8HIc0di/Djb1r1pd7YUbmFW3iwgdJz2um7X0fmZzjR5pAkzVs3g9uNuj1b348be4ty9aXeKioto8kgTmj/enKG9htI8vfm+K5SfONAYpyWn8fqA1/nN+79h045NURxB7FOMg3cgMS72Yjo/05nMRzLp3qQ7bRu0jfIoDhndgfnuvtDddwCjgP67lXGgdvh9HWA5gLsXuPtnhBKaCgnq0NJoIB/o7e713L0+cFJ43ei97WRmg81siplNYUpAPauA3E25ZNXOKlnOrJ1J7qbcMmWu6nwVo2eFhvJVzlekJqWSUSOjZPvAdgN5ZeYrJcudDusEwML8hQCMnjWaY7KOCWwM8eBg4nxR+4t4f8H77CzeSd6WPD5f9jndmnSLaP/jQVAxTkpI4vUBr/PSdy/x5tw3IzegGKQYBy/o74oN2zcwcfFE+rXsF/xgqoamwLJSyznhdaXdDVxiZjmEZmOGHGhjQSUy2e7+kLuv3LXC3Ve6+0NAs73t5O7D3L2bu3cjir9Jk3Mnc2T9I8lOzyY5IZmBbQcy9vuxZcos3bCUPs37ANAqoxWpSankbckDwDAGtBnAqJmjSsrnbsylTYM2JclO3xZ9q+yJe7scTJyXbljKydknA1AjuQY9M3syd83ciI8h1gUV4+d+/hxz1szh0a8ejeyAYpBiHLwgYpxRI4M61eoAkJqUSt8j+uo7pIJKTzqEX4MPoJpBwHB3zwTOAEaa2QHlJIFctWRmE4APgBHuviq8rhFwBdDX3X96QsnudUTxqiWA01uezmP9HiPREnl+2vP85dO/cE/ve5iyfApvz3ub1hmtefbsZ6mZUhPHufW/t/Lfhf8F4MRmJ/LgKQ/S67leZeq8pus13NTjJgqLC1myfglXvHVFlT8p9UDjnJacxgv9X6BNgzaYGS9Me4GHv3gYgJfPe5ne2b3JqJHBqoJV3PXxXTw/9fkojzR6KjvGx2Ydy2dXfsaMVTMo9mIA/vDhH3hv/ntRHmn0KMbBq+wYt2/YnhHnjCAxIZEES2D0rNHcN+m+aA/zkLhqycx6AXe7+2nh5dsB3P2BUmVmAf3cfVl4eSHQ091Xh5evALq5+4376k9QiUxd4DZCx8QaEToWtgoYCzzk7vv89Y52IiMiIhJph0gikwTMA/oAucBk4CJ3n1WqzHvAf9x9uJm1Bj4Emno4KdmfRCaQq5bcPd/MXgD+C3zl7ptLdb4f8H4Q7YqIiEh0uftOM7sRGA8kAs+7+ywzuxeY4u5jgaHAs2Z2M6HJjitKJTGLCZ0InGJm5wCn7nbFUxlBzcj8GrgBmAN0Am5y97fC27519y77rEMzMiIiUsUcCjMykRbUfWSuBrq6+2YzywZeM7Nsd38ciKkAiIiISPwKKpFJ2HU4yd0Xm1lvQslMM5TIiIiISCUJ6vLrVWbWaddCOKk5C8gAqvbDb0RERKTSBJXIXAasLL3C3Xe6+2XACQG1KSIiIlVMUFct5ZSz7fMg2hQREZGqR0+/FhERkbilREZERETilhIZERERiVtKZERERCRuKZERERGRuKVERkREROKWEhkRERGJW0pkREREJG4pkREREZG4pURGRERE4pYSGREREYlbSmREREQkbpm7R7sPhwwzG+zuw6Ldj0OZYhw8xTgyFOfgKcZVg2ZkKtfgaHegClCMg6cYR4biHDzFuApQIiMiIiJxS4mMiIiIxC0lMpVLx2KDpxgHTzGODMU5eIpxFaCTfUVERCRuaUZGRERE4pYSmf1gZs+b2Wozm1lqXT0z+6+Z/RD+t254vZnZ381svpnNMLMu0et5fDCzLDObaGazzWyWmd0UXq8YVyIzSzWz/5nZ9HCc7wmvb25mX4fj+R8zSwmvrxZenh/enh3N/scTM0s0s6lm9k54WTGuRGa22My+M7NpZjYlvE7fF1WMEpn9Mxzot9u624AP3f1I4MPwMsDpwJHh12DgqQj1MZ7tBIa6exugJ3CDmbVBMa5s24GT3b0j0AnoZ2Y9gYeAR929JZAPXBUufxWQH17/aLicVMxNwJxSy4px5TvJ3Tu5e7fwsr4vqhglMvvB3ScB63Zb3R8YEX4/Ajin1PoXPeQrIN3MGkemp/HJ3Ve4+7fh95sI/QA0RTGuVOF4bQ4vJodfDpwMvBZev3ucd8X/NaCPmVmEuhu3zCwTOBP4V3jZUIwjQd8XVYwSmYPXyN1XhN+vBBqF3zcFlpUqlxNeJxUQnlrvDHyNYlzpwoc8pgGrgf8CC4D17r4zXKR0LEviHN6+Aagf2R7HpceAW4Hi8HJ9FOPK5sAEM/vGzHbd/E7fF1VMUrQ7cChxdzczXQZ2kMysJvA68Bt331j6D1PFuHK4exHQyczSgTeBVlHu0iHFzM4CVrv7N2bWO9r9OYQd5+65ZtYQ+K+ZzS29Ud8XVYNmZA7eql3Tk+F/V4fX5wJZpcplhtdJOcwsmVAS85K7vxFerRgHxN3XAxOBXoSm2nf9cVM6liVxDm+vA6yNcFfjzbHAz81sMTCK0CGlx1GMK5W754b/XU0oIe+Ovi+qHCUyB28scHn4/eXAW6XWXxY+U74nsKHUdKfsQficgOeAOe7+SKlNinElMrMG4ZkYzKw60JfQ+UgTgQvCxXaP8674XwB85LoBVbnc/XZ3z3T3bGAgoZhdjGJcacwszcxq7XoPnArMRN8XVY5uiLcfzOwVoDeQAawC7gLGAKOBw4ElwAB3Xxf+UX6C0FVOW4BfuvuUaPQ7XpjZccCnwHf8eF7BHwidJ6MYVxIz60DoJMhEQn/MjHb3e83sCEKzB/WAqcAl7r7dzFKBkYTOWVoHDHT3hdHpffwJH1q6xd3PUowrTziWb4YXk4CX3f1+M6uPvi+qFCUyIiIiErd0aElERETilhIZERERiVtKZERERCRuKZERERGRuKVERkREROKWEhmROGJmReEn/e563VZO2XPCD93ctXyvmZ1SCX1IN7PrD7YeEZHKoMuvReKImW1295oVLDsceMfdX9tX2f3sQ3a43nb7sU9SqWcMiYhUGs3IiBwCzOxBM5ttZjPM7GEzOwb4OfDX8MxNCzMbbmYXhMsvNrMHwtummFkXMxtvZgvM7NpwmZpm9qGZfWtm35lZ/3BzDwItwvv+NXyn1L+a2cxwuQvD+/c2s0/NbCwwO3wn1nfNbHq47IVRCJWIHGL00EiR+FI9/NTqXR4APgDOBVqFH5KX7u7rwwlEyYxM6Ydvhi11905m9igwnNDzgVIJ3eb9aWAbcG74wZ0ZwFfhOm8D2rl7p3C95wOdgI6E7no92cwmhdvoEi67KFxuubufGd6vTiXGRUSqKCUyIvFl664EYpfwQwa3Ac+Z2TvAOxWsa2z43++Amu6+6f/bu3+XrqIwjuPvDzkmTl+CHFxdnKIgCKG9UWjwL2gRdHBsiiCiobk1saElgnQNcZGW0EFcXDNoSRRE8HG4N/hqCv6YDrxfy72Xy33OGT+c51wOsJ/kqD+L6QB4nWSa7siIceDeBXWeAMv9idp7Sb4DD4G/wEZV7Q6N8y7JG7qAtXbFeUrSpWwtSY3r9548Aj4Dz4DVK3561F9Phu7/PY8As8AAeNCHpz26FZvrOBia5w7dCs0m8CrJy2vWkqT/GGSkxiW5C4xV1Tdgnq7FA7APjN6i9Bjwu6qOkzwFJi6puwY8T3InyQCYBjYumOd94LCqPgJv6UKNJN2KrSWpLef3yKwC74Ev/QnKARb6d5+AD0nmgJkbjLUEfE2yCfwAtgGq6k+S9SRbwAqwCDwGfgIFLFbVryST5+pN0W0+PgGOgRc3mJMkneHv15IkqVm2liRJUrMMMpIkqVkGGUmS1CyDjCRJapZBRpIkNcsgI0mSmmWQkSRJzTLISJKkZp0CfEg1yaAOOz0AAAAASUVORK5CYII=\n",
            "text/plain": [
              "<Figure size 720x360 with 2 Axes>"
            ]
          },
          "metadata": {
            "tags": [],
            "needs_background": "light"
          }
        }
      ]
    },
    {
      "cell_type": "markdown",
      "metadata": {
        "id": "Tf_5xC9uGGmv"
      },
      "source": [
        "### Testing on Test data and Traing data in Avg-W2V for Random Forest"
      ]
    },
    {
      "cell_type": "code",
      "metadata": {
        "colab": {
          "base_uri": "https://localhost:8080/",
          "height": 766
        },
        "id": "YSH7Ot6ZGHS_",
        "outputId": "0a333367-c6b4-4ae3-f19b-d06b5a57fd3c"
      },
      "source": [
        "testing(train_avgw2v,Y_tr,test_avgw2v,Y_test,optimal_depth=5,optimal_estimator=500)"
      ],
      "execution_count": 64,
      "outputs": [
        {
          "output_type": "stream",
          "text": [
            "AUC Score for train data 0.8747266904620756\n",
            "AUC Score for test data 0.8531778841087576\n",
            "macro f1 score for train data : 0.7113410722926746\n",
            "macro f1 score for test data : 0.6906622108180578\n",
            "micro f1 score for train data: 0.7934771573604061\n",
            "micro f1 score for test data: 0.7799489056134778\n",
            "hamming loss for train data: 0.20652284263959392\n",
            "hamming loss for test data: 0.22005109438652212\n",
            "Precision recall report for train data:\n",
            "               precision    recall  f1-score   support\n",
            "\n",
            "           0       0.43      0.79      0.56      6472\n",
            "           1       0.95      0.79      0.87     32928\n",
            "\n",
            "    accuracy                           0.79     39400\n",
            "   macro avg       0.69      0.79      0.71     39400\n",
            "weighted avg       0.87      0.79      0.81     39400\n",
            "\n",
            "Precision recall report for test data:\n",
            "               precision    recall  f1-score   support\n",
            "\n",
            "           0       0.40      0.76      0.52      4649\n",
            "           1       0.94      0.78      0.86     24317\n",
            "\n",
            "    accuracy                           0.78     28966\n",
            "   macro avg       0.67      0.77      0.69     28966\n",
            "weighted avg       0.86      0.78      0.80     28966\n",
            "\n"
          ],
          "name": "stdout"
        },
        {
          "output_type": "display_data",
          "data": {
            "image/png": "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\n",
            "text/plain": [
              "<Figure size 432x288 with 1 Axes>"
            ]
          },
          "metadata": {
            "tags": [],
            "needs_background": "light"
          }
        }
      ]
    },
    {
      "cell_type": "markdown",
      "metadata": {
        "id": "75e-l6eAPFF3"
      },
      "source": [
        "#Final Report"
      ]
    },
    {
      "cell_type": "code",
      "metadata": {
        "colab": {
          "base_uri": "https://localhost:8080/",
          "height": 163
        },
        "id": "lP9S5xGKGKEH",
        "outputId": "e19af5c7-a690-44d4-e0b9-f2bd89a1255f"
      },
      "source": [
        "from prettytable import PrettyTable\n",
        "x = PrettyTable()\n",
        "x.field_names = [\"Vectorizer\",\"Model\",\"Best Hyper Parameter(Depth)\",\"Best Hyper parameter(n_estimator)\",\"Test Auc Score\"]\n",
        "x.add_row([\"BoW\",\"Random Forest\",8,400,90.84])\n",
        "x.add_row([\"Tf-Idf\",\"Random Forest\",5,500,90.35])\n",
        "x.add_row([\"Avg-W2V\",\"Random Forest\",5,500,86.12])\n",
        "from IPython.display import Markdown, display\n",
        "def printmd(string):\n",
        "    display(Markdown(string))\n",
        "printmd('****Final Conclusion:****')\n",
        "print(x)"
      ],
      "execution_count": 65,
      "outputs": [
        {
          "output_type": "display_data",
          "data": {
            "text/markdown": "****Final Conclusion:****",
            "text/plain": [
              "<IPython.core.display.Markdown object>"
            ]
          },
          "metadata": {
            "tags": []
          }
        },
        {
          "output_type": "stream",
          "text": [
            "+------------+---------------+-----------------------------+-----------------------------------+----------------+\n",
            "| Vectorizer |     Model     | Best Hyper Parameter(Depth) | Best Hyper parameter(n_estimator) | Test Auc Score |\n",
            "+------------+---------------+-----------------------------+-----------------------------------+----------------+\n",
            "|    BoW     | Random Forest |              8              |                400                |     90.84      |\n",
            "|   Tf-Idf   | Random Forest |              5              |                500                |     90.35      |\n",
            "|  Avg-W2V   | Random Forest |              5              |                500                |     86.12      |\n",
            "+------------+---------------+-----------------------------+-----------------------------------+----------------+\n"
          ],
          "name": "stdout"
        }
      ]
    },
    {
      "cell_type": "code",
      "metadata": {
        "id": "PX68qaunIBGw"
      },
      "source": [
        ""
      ],
      "execution_count": null,
      "outputs": []
    }
  ]
}
